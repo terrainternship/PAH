{
  "cells": [
    {
      "cell_type": "code",
      "execution_count": 1,
      "metadata": {
        "id": "nRv68fDc6D_b"
      },
      "outputs": [],
      "source": [
        "import pandas as pd\n",
        "import matplotlib.pyplot as plt\n",
        "import numpy as np"
      ]
    },
    {
      "cell_type": "code",
      "execution_count": 2,
      "metadata": {
        "id": "K_Z8Q9W76D_d"
      },
      "outputs": [],
      "source": [
        "# Функции-утилиты для работы с категориальными данными\n",
        "from tensorflow.keras import utils\n",
        "\n",
        "# Класс для конструирования последовательной модели нейронной сети\n",
        "from tensorflow.keras.models import Sequential\n",
        "\n",
        "# Основные слои\n",
        "from tensorflow.keras.layers import Dense, Dropout, SpatialDropout1D, BatchNormalization, Embedding, Flatten, Activation\n",
        "from tensorflow.keras.layers import SimpleRNN, GRU, LSTM, Bidirectional, Conv1D, MaxPooling1D, GlobalMaxPooling1D\n"
      ]
    },
    {
      "cell_type": "code",
      "execution_count": 3,
      "metadata": {
        "colab": {
          "base_uri": "https://localhost:8080/",
          "height": 203
        },
        "id": "ylPYi2Yj6D_e",
        "outputId": "cdd1cb51-0356-4dd0-8332-c9e069af1851"
      },
      "outputs": [
        {
          "output_type": "stream",
          "name": "stdout",
          "text": [
            "(216, 77)\n"
          ]
        },
        {
          "output_type": "execute_result",
          "data": {
            "text/plain": [
              "          Т           Y1    Y2    X1   X2      X3    X4     X5     X6    X7  \\\n",
              "0  1/1/2005  1486.333333  2.62  99.4  515  1838.0  2859  386.0  148.1  80.9   \n",
              "1  2/1/2005  1486.333333  1.23  99.1  530  1832.0  2542  357.7  184.5  89.9   \n",
              "\n",
              "   ...    Z88     Z89     Z90   Z91  Z92   Z93   Z94   Z95      Z98     Z99  \n",
              "0  ...  151.5  1254.3  4298.2  3094  309  7168  9615  1624  1486.33  632.76  \n",
              "1  ...  157.5  1281.5  4373.8  2811  335  7647  9653  1905  1486.33  632.76  \n",
              "\n",
              "[2 rows x 77 columns]"
            ],
            "text/html": [
              "\n",
              "  <div id=\"df-c12a12ed-1872-4397-8d61-1b522d554de5\">\n",
              "    <div class=\"colab-df-container\">\n",
              "      <div>\n",
              "<style scoped>\n",
              "    .dataframe tbody tr th:only-of-type {\n",
              "        vertical-align: middle;\n",
              "    }\n",
              "\n",
              "    .dataframe tbody tr th {\n",
              "        vertical-align: top;\n",
              "    }\n",
              "\n",
              "    .dataframe thead th {\n",
              "        text-align: right;\n",
              "    }\n",
              "</style>\n",
              "<table border=\"1\" class=\"dataframe\">\n",
              "  <thead>\n",
              "    <tr style=\"text-align: right;\">\n",
              "      <th></th>\n",
              "      <th>Т</th>\n",
              "      <th>Y1</th>\n",
              "      <th>Y2</th>\n",
              "      <th>X1</th>\n",
              "      <th>X2</th>\n",
              "      <th>X3</th>\n",
              "      <th>X4</th>\n",
              "      <th>X5</th>\n",
              "      <th>X6</th>\n",
              "      <th>X7</th>\n",
              "      <th>...</th>\n",
              "      <th>Z88</th>\n",
              "      <th>Z89</th>\n",
              "      <th>Z90</th>\n",
              "      <th>Z91</th>\n",
              "      <th>Z92</th>\n",
              "      <th>Z93</th>\n",
              "      <th>Z94</th>\n",
              "      <th>Z95</th>\n",
              "      <th>Z98</th>\n",
              "      <th>Z99</th>\n",
              "    </tr>\n",
              "  </thead>\n",
              "  <tbody>\n",
              "    <tr>\n",
              "      <th>0</th>\n",
              "      <td>1/1/2005</td>\n",
              "      <td>1486.333333</td>\n",
              "      <td>2.62</td>\n",
              "      <td>99.4</td>\n",
              "      <td>515</td>\n",
              "      <td>1838.0</td>\n",
              "      <td>2859</td>\n",
              "      <td>386.0</td>\n",
              "      <td>148.1</td>\n",
              "      <td>80.9</td>\n",
              "      <td>...</td>\n",
              "      <td>151.5</td>\n",
              "      <td>1254.3</td>\n",
              "      <td>4298.2</td>\n",
              "      <td>3094</td>\n",
              "      <td>309</td>\n",
              "      <td>7168</td>\n",
              "      <td>9615</td>\n",
              "      <td>1624</td>\n",
              "      <td>1486.33</td>\n",
              "      <td>632.76</td>\n",
              "    </tr>\n",
              "    <tr>\n",
              "      <th>1</th>\n",
              "      <td>2/1/2005</td>\n",
              "      <td>1486.333333</td>\n",
              "      <td>1.23</td>\n",
              "      <td>99.1</td>\n",
              "      <td>530</td>\n",
              "      <td>1832.0</td>\n",
              "      <td>2542</td>\n",
              "      <td>357.7</td>\n",
              "      <td>184.5</td>\n",
              "      <td>89.9</td>\n",
              "      <td>...</td>\n",
              "      <td>157.5</td>\n",
              "      <td>1281.5</td>\n",
              "      <td>4373.8</td>\n",
              "      <td>2811</td>\n",
              "      <td>335</td>\n",
              "      <td>7647</td>\n",
              "      <td>9653</td>\n",
              "      <td>1905</td>\n",
              "      <td>1486.33</td>\n",
              "      <td>632.76</td>\n",
              "    </tr>\n",
              "  </tbody>\n",
              "</table>\n",
              "<p>2 rows × 77 columns</p>\n",
              "</div>\n",
              "      <button class=\"colab-df-convert\" onclick=\"convertToInteractive('df-c12a12ed-1872-4397-8d61-1b522d554de5')\"\n",
              "              title=\"Convert this dataframe to an interactive table.\"\n",
              "              style=\"display:none;\">\n",
              "        \n",
              "  <svg xmlns=\"http://www.w3.org/2000/svg\" height=\"24px\"viewBox=\"0 0 24 24\"\n",
              "       width=\"24px\">\n",
              "    <path d=\"M0 0h24v24H0V0z\" fill=\"none\"/>\n",
              "    <path d=\"M18.56 5.44l.94 2.06.94-2.06 2.06-.94-2.06-.94-.94-2.06-.94 2.06-2.06.94zm-11 1L8.5 8.5l.94-2.06 2.06-.94-2.06-.94L8.5 2.5l-.94 2.06-2.06.94zm10 10l.94 2.06.94-2.06 2.06-.94-2.06-.94-.94-2.06-.94 2.06-2.06.94z\"/><path d=\"M17.41 7.96l-1.37-1.37c-.4-.4-.92-.59-1.43-.59-.52 0-1.04.2-1.43.59L10.3 9.45l-7.72 7.72c-.78.78-.78 2.05 0 2.83L4 21.41c.39.39.9.59 1.41.59.51 0 1.02-.2 1.41-.59l7.78-7.78 2.81-2.81c.8-.78.8-2.07 0-2.86zM5.41 20L4 18.59l7.72-7.72 1.47 1.35L5.41 20z\"/>\n",
              "  </svg>\n",
              "      </button>\n",
              "      \n",
              "  <style>\n",
              "    .colab-df-container {\n",
              "      display:flex;\n",
              "      flex-wrap:wrap;\n",
              "      gap: 12px;\n",
              "    }\n",
              "\n",
              "    .colab-df-convert {\n",
              "      background-color: #E8F0FE;\n",
              "      border: none;\n",
              "      border-radius: 50%;\n",
              "      cursor: pointer;\n",
              "      display: none;\n",
              "      fill: #1967D2;\n",
              "      height: 32px;\n",
              "      padding: 0 0 0 0;\n",
              "      width: 32px;\n",
              "    }\n",
              "\n",
              "    .colab-df-convert:hover {\n",
              "      background-color: #E2EBFA;\n",
              "      box-shadow: 0px 1px 2px rgba(60, 64, 67, 0.3), 0px 1px 3px 1px rgba(60, 64, 67, 0.15);\n",
              "      fill: #174EA6;\n",
              "    }\n",
              "\n",
              "    [theme=dark] .colab-df-convert {\n",
              "      background-color: #3B4455;\n",
              "      fill: #D2E3FC;\n",
              "    }\n",
              "\n",
              "    [theme=dark] .colab-df-convert:hover {\n",
              "      background-color: #434B5C;\n",
              "      box-shadow: 0px 1px 3px 1px rgba(0, 0, 0, 0.15);\n",
              "      filter: drop-shadow(0px 1px 2px rgba(0, 0, 0, 0.3));\n",
              "      fill: #FFFFFF;\n",
              "    }\n",
              "  </style>\n",
              "\n",
              "      <script>\n",
              "        const buttonEl =\n",
              "          document.querySelector('#df-c12a12ed-1872-4397-8d61-1b522d554de5 button.colab-df-convert');\n",
              "        buttonEl.style.display =\n",
              "          google.colab.kernel.accessAllowed ? 'block' : 'none';\n",
              "\n",
              "        async function convertToInteractive(key) {\n",
              "          const element = document.querySelector('#df-c12a12ed-1872-4397-8d61-1b522d554de5');\n",
              "          const dataTable =\n",
              "            await google.colab.kernel.invokeFunction('convertToInteractive',\n",
              "                                                     [key], {});\n",
              "          if (!dataTable) return;\n",
              "\n",
              "          const docLinkHtml = 'Like what you see? Visit the ' +\n",
              "            '<a target=\"_blank\" href=https://colab.research.google.com/notebooks/data_table.ipynb>data table notebook</a>'\n",
              "            + ' to learn more about interactive tables.';\n",
              "          element.innerHTML = '';\n",
              "          dataTable['output_type'] = 'display_data';\n",
              "          await google.colab.output.renderOutput(dataTable, element);\n",
              "          const docLink = document.createElement('div');\n",
              "          docLink.innerHTML = docLinkHtml;\n",
              "          element.appendChild(docLink);\n",
              "        }\n",
              "      </script>\n",
              "    </div>\n",
              "  </div>\n",
              "  "
            ]
          },
          "metadata": {},
          "execution_count": 3
        }
      ],
      "source": [
        "values = pd.read_csv('MEP_2.csv')\n",
        "print(values.shape)\n",
        "#values = values.drop(values.columns[0], axis=1)\n",
        "#Удаляем дублирующий индекс и 9_temperature(Из-за высокого шума и избыточной чувствительности)\n",
        "#values = values.drop(values.columns[21], axis=1) #\n",
        "values.head(2)"
      ]
    },
    {
      "cell_type": "code",
      "execution_count": 4,
      "metadata": {
        "colab": {
          "base_uri": "https://localhost:8080/",
          "height": 185
        },
        "id": "woHIri1k6D_f",
        "outputId": "774b858a-62a7-4df9-adb3-a11ef4dde30f"
      },
      "outputs": [
        {
          "output_type": "execute_result",
          "data": {
            "text/plain": [
              "          Т           Y1    Y2    X1   X2      X3    X4     X5     X6    X7  \\\n",
              "0  1/1/2005  1486.333333  2.62  99.4  515  1838.0  2859  386.0  148.1  80.9   \n",
              "1  2/1/2005  1486.333333  1.23  99.1  530  1832.0  2542  357.7  184.5  89.9   \n",
              "\n",
              "   ...    Z88     Z89     Z90   Z91  Z92   Z93   Z94   Z95      Z98     Z99  \n",
              "0  ...  151.5  1254.3  4298.2  3094  309  7168  9615  1624  1486.33  632.76  \n",
              "1  ...  157.5  1281.5  4373.8  2811  335  7647  9653  1905  1486.33  632.76  \n",
              "\n",
              "[2 rows x 77 columns]"
            ],
            "text/html": [
              "\n",
              "  <div id=\"df-7e8b7717-3b81-4d7e-9b9d-2ab776c6453b\">\n",
              "    <div class=\"colab-df-container\">\n",
              "      <div>\n",
              "<style scoped>\n",
              "    .dataframe tbody tr th:only-of-type {\n",
              "        vertical-align: middle;\n",
              "    }\n",
              "\n",
              "    .dataframe tbody tr th {\n",
              "        vertical-align: top;\n",
              "    }\n",
              "\n",
              "    .dataframe thead th {\n",
              "        text-align: right;\n",
              "    }\n",
              "</style>\n",
              "<table border=\"1\" class=\"dataframe\">\n",
              "  <thead>\n",
              "    <tr style=\"text-align: right;\">\n",
              "      <th></th>\n",
              "      <th>Т</th>\n",
              "      <th>Y1</th>\n",
              "      <th>Y2</th>\n",
              "      <th>X1</th>\n",
              "      <th>X2</th>\n",
              "      <th>X3</th>\n",
              "      <th>X4</th>\n",
              "      <th>X5</th>\n",
              "      <th>X6</th>\n",
              "      <th>X7</th>\n",
              "      <th>...</th>\n",
              "      <th>Z88</th>\n",
              "      <th>Z89</th>\n",
              "      <th>Z90</th>\n",
              "      <th>Z91</th>\n",
              "      <th>Z92</th>\n",
              "      <th>Z93</th>\n",
              "      <th>Z94</th>\n",
              "      <th>Z95</th>\n",
              "      <th>Z98</th>\n",
              "      <th>Z99</th>\n",
              "    </tr>\n",
              "  </thead>\n",
              "  <tbody>\n",
              "    <tr>\n",
              "      <th>0</th>\n",
              "      <td>1/1/2005</td>\n",
              "      <td>1486.333333</td>\n",
              "      <td>2.62</td>\n",
              "      <td>99.4</td>\n",
              "      <td>515</td>\n",
              "      <td>1838.0</td>\n",
              "      <td>2859</td>\n",
              "      <td>386.0</td>\n",
              "      <td>148.1</td>\n",
              "      <td>80.9</td>\n",
              "      <td>...</td>\n",
              "      <td>151.5</td>\n",
              "      <td>1254.3</td>\n",
              "      <td>4298.2</td>\n",
              "      <td>3094</td>\n",
              "      <td>309</td>\n",
              "      <td>7168</td>\n",
              "      <td>9615</td>\n",
              "      <td>1624</td>\n",
              "      <td>1486.33</td>\n",
              "      <td>632.76</td>\n",
              "    </tr>\n",
              "    <tr>\n",
              "      <th>1</th>\n",
              "      <td>2/1/2005</td>\n",
              "      <td>1486.333333</td>\n",
              "      <td>1.23</td>\n",
              "      <td>99.1</td>\n",
              "      <td>530</td>\n",
              "      <td>1832.0</td>\n",
              "      <td>2542</td>\n",
              "      <td>357.7</td>\n",
              "      <td>184.5</td>\n",
              "      <td>89.9</td>\n",
              "      <td>...</td>\n",
              "      <td>157.5</td>\n",
              "      <td>1281.5</td>\n",
              "      <td>4373.8</td>\n",
              "      <td>2811</td>\n",
              "      <td>335</td>\n",
              "      <td>7647</td>\n",
              "      <td>9653</td>\n",
              "      <td>1905</td>\n",
              "      <td>1486.33</td>\n",
              "      <td>632.76</td>\n",
              "    </tr>\n",
              "  </tbody>\n",
              "</table>\n",
              "<p>2 rows × 77 columns</p>\n",
              "</div>\n",
              "      <button class=\"colab-df-convert\" onclick=\"convertToInteractive('df-7e8b7717-3b81-4d7e-9b9d-2ab776c6453b')\"\n",
              "              title=\"Convert this dataframe to an interactive table.\"\n",
              "              style=\"display:none;\">\n",
              "        \n",
              "  <svg xmlns=\"http://www.w3.org/2000/svg\" height=\"24px\"viewBox=\"0 0 24 24\"\n",
              "       width=\"24px\">\n",
              "    <path d=\"M0 0h24v24H0V0z\" fill=\"none\"/>\n",
              "    <path d=\"M18.56 5.44l.94 2.06.94-2.06 2.06-.94-2.06-.94-.94-2.06-.94 2.06-2.06.94zm-11 1L8.5 8.5l.94-2.06 2.06-.94-2.06-.94L8.5 2.5l-.94 2.06-2.06.94zm10 10l.94 2.06.94-2.06 2.06-.94-2.06-.94-.94-2.06-.94 2.06-2.06.94z\"/><path d=\"M17.41 7.96l-1.37-1.37c-.4-.4-.92-.59-1.43-.59-.52 0-1.04.2-1.43.59L10.3 9.45l-7.72 7.72c-.78.78-.78 2.05 0 2.83L4 21.41c.39.39.9.59 1.41.59.51 0 1.02-.2 1.41-.59l7.78-7.78 2.81-2.81c.8-.78.8-2.07 0-2.86zM5.41 20L4 18.59l7.72-7.72 1.47 1.35L5.41 20z\"/>\n",
              "  </svg>\n",
              "      </button>\n",
              "      \n",
              "  <style>\n",
              "    .colab-df-container {\n",
              "      display:flex;\n",
              "      flex-wrap:wrap;\n",
              "      gap: 12px;\n",
              "    }\n",
              "\n",
              "    .colab-df-convert {\n",
              "      background-color: #E8F0FE;\n",
              "      border: none;\n",
              "      border-radius: 50%;\n",
              "      cursor: pointer;\n",
              "      display: none;\n",
              "      fill: #1967D2;\n",
              "      height: 32px;\n",
              "      padding: 0 0 0 0;\n",
              "      width: 32px;\n",
              "    }\n",
              "\n",
              "    .colab-df-convert:hover {\n",
              "      background-color: #E2EBFA;\n",
              "      box-shadow: 0px 1px 2px rgba(60, 64, 67, 0.3), 0px 1px 3px 1px rgba(60, 64, 67, 0.15);\n",
              "      fill: #174EA6;\n",
              "    }\n",
              "\n",
              "    [theme=dark] .colab-df-convert {\n",
              "      background-color: #3B4455;\n",
              "      fill: #D2E3FC;\n",
              "    }\n",
              "\n",
              "    [theme=dark] .colab-df-convert:hover {\n",
              "      background-color: #434B5C;\n",
              "      box-shadow: 0px 1px 3px 1px rgba(0, 0, 0, 0.15);\n",
              "      filter: drop-shadow(0px 1px 2px rgba(0, 0, 0, 0.3));\n",
              "      fill: #FFFFFF;\n",
              "    }\n",
              "  </style>\n",
              "\n",
              "      <script>\n",
              "        const buttonEl =\n",
              "          document.querySelector('#df-7e8b7717-3b81-4d7e-9b9d-2ab776c6453b button.colab-df-convert');\n",
              "        buttonEl.style.display =\n",
              "          google.colab.kernel.accessAllowed ? 'block' : 'none';\n",
              "\n",
              "        async function convertToInteractive(key) {\n",
              "          const element = document.querySelector('#df-7e8b7717-3b81-4d7e-9b9d-2ab776c6453b');\n",
              "          const dataTable =\n",
              "            await google.colab.kernel.invokeFunction('convertToInteractive',\n",
              "                                                     [key], {});\n",
              "          if (!dataTable) return;\n",
              "\n",
              "          const docLinkHtml = 'Like what you see? Visit the ' +\n",
              "            '<a target=\"_blank\" href=https://colab.research.google.com/notebooks/data_table.ipynb>data table notebook</a>'\n",
              "            + ' to learn more about interactive tables.';\n",
              "          element.innerHTML = '';\n",
              "          dataTable['output_type'] = 'display_data';\n",
              "          await google.colab.output.renderOutput(dataTable, element);\n",
              "          const docLink = document.createElement('div');\n",
              "          docLink.innerHTML = docLinkHtml;\n",
              "          element.appendChild(docLink);\n",
              "        }\n",
              "      </script>\n",
              "    </div>\n",
              "  </div>\n",
              "  "
            ]
          },
          "metadata": {},
          "execution_count": 4
        }
      ],
      "source": [
        "values.head(2)"
      ]
    },
    {
      "cell_type": "code",
      "execution_count": 28,
      "metadata": {
        "colab": {
          "base_uri": "https://localhost:8080/"
        },
        "id": "nTf5VZQK6D_f",
        "outputId": "4efa8e40-f108-4175-af90-22043536b80a"
      },
      "outputs": [
        {
          "output_type": "stream",
          "name": "stdout",
          "text": [
            "(216, 6)\n"
          ]
        }
      ],
      "source": [
        "# ['Z58','X11','Z70','X12','Z66','X26','Z11','Z21','Z9','Z10','X10','Z25','Z71','X25','Z62']\n",
        "# Для инфляции\n",
        "#DF_hi_korr = values[['X11','X12','X26','Z11','Z9','Z10','X10','X25','Z62']]\n",
        "print(DF_hi_korr.shape)\n"
      ]
    },
    {
      "cell_type": "code",
      "source": [
        "#Для ВВП\n",
        "DF_hi_korr = values[['Z26','Z27','Z7','Z28','Z10','X5','X17','X8','Z60']]\n",
        "print(DF_hi_korr.shape)"
      ],
      "metadata": {
        "colab": {
          "base_uri": "https://localhost:8080/"
        },
        "id": "lcRc2uhl9Va9",
        "outputId": "64f60a99-7a6f-4cf5-c706-d2437ec5a9ea"
      },
      "execution_count": 125,
      "outputs": [
        {
          "output_type": "stream",
          "name": "stdout",
          "text": [
            "(216, 9)\n"
          ]
        }
      ]
    },
    {
      "cell_type": "code",
      "execution_count": 126,
      "metadata": {
        "colab": {
          "base_uri": "https://localhost:8080/"
        },
        "id": "VYt2cZfV6D_f",
        "outputId": "b4179620-4fce-4a77-e751-b01286015f8f"
      },
      "outputs": [
        {
          "output_type": "stream",
          "name": "stdout",
          "text": [
            "(166, 9) (50, 9)\n"
          ]
        }
      ],
      "source": [
        "x_train = pd.concat([DF_hi_korr.iloc[:50] ,DF_hi_korr.iloc[100:]])\n",
        "x_train = x_train.reset_index(drop=True)\n",
        "\n",
        "x_test = DF_hi_korr.iloc[50:100]\n",
        "\n",
        "print(x_train.shape,x_test.shape)"
      ]
    },
    {
      "cell_type": "code",
      "execution_count": 127,
      "metadata": {
        "colab": {
          "base_uri": "https://localhost:8080/",
          "height": 447
        },
        "id": "_y89q4LC6D_g",
        "outputId": "b7b32ba2-baba-499b-9c19-806950bb2621"
      },
      "outputs": [
        {
          "output_type": "execute_result",
          "data": {
            "text/plain": [
              "<Axes: >"
            ]
          },
          "metadata": {},
          "execution_count": 127
        },
        {
          "output_type": "display_data",
          "data": {
            "text/plain": [
              "<Figure size 640x480 with 1 Axes>"
            ],
            "image/png": "[encoded data removed]"
          },
          "metadata": {}
        }
      ],
      "source": [
        "DF_hi_korr.plot()"
      ]
    },
    {
      "cell_type": "code",
      "execution_count": 128,
      "metadata": {
        "colab": {
          "base_uri": "https://localhost:8080/"
        },
        "id": "OVdHwYoF6D_g",
        "outputId": "790ac522-7136-4b25-c9cf-8ef834dbe8c1"
      },
      "outputs": [
        {
          "output_type": "stream",
          "name": "stdout",
          "text": [
            "(161, 1) (161, 1)\n"
          ]
        }
      ],
      "source": [
        "y_train_VVP = pd.concat([values[:50].filter(like='Y1'),values[105:].filter(like='Y1')])\n",
        "y_train_VVP = y_train_VVP.reset_index(drop=True)\n",
        "# y_train_INF = pd.concat([values[:50].filter(like='Y2'),values[105:].filter(like='Y2')])\n",
        "# y_train_INF = y_train_INF.reset_index(drop=True)\n",
        "print(y_train_VVP.shape,y_train_VVP.shape)\n"
      ]
    },
    {
      "cell_type": "code",
      "execution_count": 129,
      "metadata": {
        "id": "qP4XPN1N6D_g"
      },
      "outputs": [],
      "source": [
        "\n",
        "y_test_vvp = values[50:95].filter(like='Y1')\n",
        "y_test_vvp = y_test_vvp.reset_index(drop=True)\n",
        "# y_test_inf = values[50:95].filter(like='Y2')\n",
        "# y_test_inf = y_test_inf.reset_index(drop=True)"
      ]
    },
    {
      "cell_type": "code",
      "source": [
        "y_test_vvp.plot()"
      ],
      "metadata": {
        "colab": {
          "base_uri": "https://localhost:8080/",
          "height": 447
        },
        "id": "Jga3HYDNCmpi",
        "outputId": "39c0f729-d295-4bce-cede-3597fe7481cf"
      },
      "execution_count": 130,
      "outputs": [
        {
          "output_type": "execute_result",
          "data": {
            "text/plain": [
              "<Axes: >"
            ]
          },
          "metadata": {},
          "execution_count": 130
        },
        {
          "output_type": "display_data",
          "data": {
            "text/plain": [
              "<Figure size 640x480 with 1 Axes>"
            ],
            "image/png": "[encoded data removed]"
          },
          "metadata": {}
        }
      ]
    },
    {
      "cell_type": "code",
      "execution_count": 110,
      "metadata": {
        "colab": {
          "base_uri": "https://localhost:8080/",
          "height": 447
        },
        "id": "LEuVUzCf6D_h",
        "outputId": "3388db49-4743-44b7-b3e0-b1c412b43d5f"
      },
      "outputs": [
        {
          "output_type": "execute_result",
          "data": {
            "text/plain": [
              "<Axes: >"
            ]
          },
          "metadata": {},
          "execution_count": 110
        },
        {
          "output_type": "display_data",
          "data": {
            "text/plain": [
              "<Figure size 640x480 with 1 Axes>"
            ],
            "image/png": "[encoded data removed]"
          },
          "metadata": {}
        }
      ],
      "source": [
        "y_train_VVP.plot()"
      ]
    },
    {
      "cell_type": "code",
      "execution_count": 111,
      "metadata": {
        "colab": {
          "base_uri": "https://localhost:8080/",
          "height": 452
        },
        "id": "pCbYr7WJ6D_h",
        "outputId": "56524dc0-ebbf-4710-9d11-6169f916ee87"
      },
      "outputs": [
        {
          "output_type": "execute_result",
          "data": {
            "text/plain": [
              "<Axes: >"
            ]
          },
          "metadata": {},
          "execution_count": 111
        },
        {
          "output_type": "display_data",
          "data": {
            "text/plain": [
              "<Figure size 640x480 with 1 Axes>"
            ],
            "image/png": "[encoded data removed]"
          },
          "metadata": {}
        }
      ],
      "source": [
        "y_train_INF.plot()"
      ]
    },
    {
      "cell_type": "code",
      "execution_count": 131,
      "metadata": {
        "id": "fkKDN1Go6D_h"
      },
      "outputs": [],
      "source": [
        "time_steps=6\n",
        "features = 9"
      ]
    },
    {
      "cell_type": "code",
      "execution_count": 132,
      "metadata": {
        "colab": {
          "base_uri": "https://localhost:8080/"
        },
        "id": "L3zX69mg6D_h",
        "outputId": "53dc7b7a-33e7-4220-f8c5-7cda077f372f"
      },
      "outputs": [
        {
          "output_type": "stream",
          "name": "stdout",
          "text": [
            "(161, 6, 9)\n"
          ]
        }
      ],
      "source": [
        "# Инициализация массива x_train\n",
        "x_train2 = np.zeros((x_train.shape[0] - time_steps + 1, time_steps, features))\n",
        "\n",
        "# Заполнение массива x_train окнами размером time_steps\n",
        "for i in range(x_train.shape[0] - time_steps + 1):\n",
        "    x_train2[i] = x_train.iloc[i:i+time_steps].values\n",
        "\n",
        "print(x_train2.shape)"
      ]
    },
    {
      "cell_type": "code",
      "execution_count": 133,
      "metadata": {
        "colab": {
          "base_uri": "https://localhost:8080/"
        },
        "id": "ItYzLdNX6D_h",
        "outputId": "0890a968-104d-48c6-ffff-459662d90000"
      },
      "outputs": [
        {
          "output_type": "stream",
          "name": "stdout",
          "text": [
            "(45, 6, 9)\n"
          ]
        }
      ],
      "source": [
        "# Инициализация массива x_test\n",
        "x_test2 = np.zeros((x_test.shape[0] - time_steps + 1, time_steps, features))\n",
        "\n",
        "# Заполнение массива x_test окнами размером time_steps\n",
        "for i in range(x_test.shape[0] - time_steps + 1):\n",
        "    x_test2[i] = x_test.iloc[i:i+time_steps].values\n",
        "\n",
        "print(x_test2.shape)"
      ]
    },
    {
      "cell_type": "code",
      "execution_count": 115,
      "metadata": {
        "id": "ztWG0XY56D_i"
      },
      "outputs": [],
      "source": [
        "from keras.models import Sequential\n",
        "from keras.layers import LSTM, Dense"
      ]
    },
    {
      "cell_type": "code",
      "execution_count": 172,
      "metadata": {
        "colab": {
          "base_uri": "https://localhost:8080/"
        },
        "id": "G1UcMK656D_i",
        "outputId": "84e43819-e896-4766-eb9d-8d7816aff826"
      },
      "outputs": [
        {
          "output_type": "stream",
          "name": "stdout",
          "text": [
            "Epoch 1/22\n",
            "11/11 [==============================] - 3s 64ms/step - loss: 6732.5146 - val_loss: 4469.7236\n",
            "Epoch 2/22\n",
            "11/11 [==============================] - 0s 16ms/step - loss: 6723.2485 - val_loss: 4457.4546\n",
            "Epoch 3/22\n",
            "11/11 [==============================] - 0s 16ms/step - loss: 6706.2300 - val_loss: 4434.7915\n",
            "Epoch 4/22\n",
            "11/11 [==============================] - 0s 16ms/step - loss: 6679.2563 - val_loss: 4400.4033\n",
            "Epoch 5/22\n",
            "11/11 [==============================] - 0s 10ms/step - loss: 6639.1445 - val_loss: 4350.2441\n",
            "Epoch 6/22\n",
            "11/11 [==============================] - 0s 9ms/step - loss: 6580.8594 - val_loss: 4281.1299\n",
            "Epoch 7/22\n",
            "11/11 [==============================] - 0s 11ms/step - loss: 6502.1470 - val_loss: 4188.4443\n",
            "Epoch 8/22\n",
            "11/11 [==============================] - 0s 12ms/step - loss: 6399.8379 - val_loss: 4071.4221\n",
            "Epoch 9/22\n",
            "11/11 [==============================] - 0s 12ms/step - loss: 6271.2012 - val_loss: 3925.7456\n",
            "Epoch 10/22\n",
            "11/11 [==============================] - 0s 11ms/step - loss: 6112.2671 - val_loss: 3745.2568\n",
            "Epoch 11/22\n",
            "11/11 [==============================] - 0s 11ms/step - loss: 5917.4512 - val_loss: 3531.0420\n",
            "Epoch 12/22\n",
            "11/11 [==============================] - 0s 12ms/step - loss: 5687.4233 - val_loss: 3277.7466\n",
            "Epoch 13/22\n",
            "11/11 [==============================] - 0s 9ms/step - loss: 5415.2412 - val_loss: 2976.6580\n",
            "Epoch 14/22\n",
            "11/11 [==============================] - 0s 10ms/step - loss: 5100.7964 - val_loss: 2636.4531\n",
            "Epoch 15/22\n",
            "11/11 [==============================] - 0s 11ms/step - loss: 4780.0415 - val_loss: 2260.3511\n",
            "Epoch 16/22\n",
            "11/11 [==============================] - 0s 10ms/step - loss: 4480.2153 - val_loss: 1883.5548\n",
            "Epoch 17/22\n",
            "11/11 [==============================] - 0s 11ms/step - loss: 4244.5273 - val_loss: 1562.7365\n",
            "Epoch 18/22\n",
            "11/11 [==============================] - 0s 11ms/step - loss: 4042.2329 - val_loss: 1242.1243\n",
            "Epoch 19/22\n",
            "11/11 [==============================] - 0s 10ms/step - loss: 3848.5085 - val_loss: 1012.5187\n",
            "Epoch 20/22\n",
            "11/11 [==============================] - 0s 9ms/step - loss: 3704.4624 - val_loss: 925.2668\n",
            "Epoch 21/22\n",
            "11/11 [==============================] - 0s 10ms/step - loss: 3579.1855 - val_loss: 860.3509\n",
            "Epoch 22/22\n",
            "11/11 [==============================] - 0s 10ms/step - loss: 3430.6028 - val_loss: 868.3366\n"
          ]
        },
        {
          "output_type": "execute_result",
          "data": {
            "text/plain": [
              "<keras.callbacks.History at 0x7fa7642b2e00>"
            ]
          },
          "metadata": {},
          "execution_count": 172
        }
      ],
      "source": [
        "model2 = Sequential()\n",
        "model2.add(LSTM(units=150, input_shape=(time_steps, features)))\n",
        "model2.add(Dense(units = 100))\n",
        "model2.add(Dense(units = 10))\n",
        "model2.add(Dense(units=1))\n",
        "model2.compile(loss='mae', optimizer='adam')\n",
        "model2.fit(x_train2, y_train_VVP, epochs=22, batch_size=16, validation_data=(x_test2, y_test_vvp))"
      ]
    },
    {
      "cell_type": "code",
      "source": [
        "model2.fit(x_train2, y_train_VVP, epochs=50, batch_size=8, validation_data=(x_test2, y_test_vvp))"
      ],
      "metadata": {
        "id": "xJs-v6QbDYS4",
        "outputId": "5cae18e8-a552-4561-a2a3-3872a97b62ca",
        "colab": {
          "base_uri": "https://localhost:8080/"
        }
      },
      "execution_count": 117,
      "outputs": [
        {
          "output_type": "stream",
          "name": "stdout",
          "text": [
            "Epoch 1/50\n",
            "21/21 [==============================] - 0s 6ms/step - loss: 6645.8530 - val_loss: 4388.5791\n",
            "Epoch 2/50\n",
            "21/21 [==============================] - 0s 6ms/step - loss: 6645.5630 - val_loss: 4388.2896\n",
            "Epoch 3/50\n",
            "21/21 [==============================] - 0s 5ms/step - loss: 6645.2725 - val_loss: 4387.9995\n",
            "Epoch 4/50\n",
            "21/21 [==============================] - 0s 5ms/step - loss: 6644.9839 - val_loss: 4387.7095\n",
            "Epoch 5/50\n",
            "21/21 [==============================] - 0s 5ms/step - loss: 6644.6934 - val_loss: 4387.4189\n",
            "Epoch 6/50\n",
            "21/21 [==============================] - 0s 5ms/step - loss: 6644.4038 - val_loss: 4387.1294\n",
            "Epoch 7/50\n",
            "21/21 [==============================] - 0s 4ms/step - loss: 6644.1128 - val_loss: 4386.8389\n",
            "Epoch 8/50\n",
            "21/21 [==============================] - 0s 5ms/step - loss: 6643.8228 - val_loss: 4386.5493\n",
            "Epoch 9/50\n",
            "21/21 [==============================] - 0s 5ms/step - loss: 6643.5332 - val_loss: 4386.2588\n",
            "Epoch 10/50\n",
            "21/21 [==============================] - 0s 5ms/step - loss: 6643.2437 - val_loss: 4385.9692\n",
            "Epoch 11/50\n",
            "21/21 [==============================] - 0s 5ms/step - loss: 6642.9536 - val_loss: 4385.6792\n",
            "Epoch 12/50\n",
            "21/21 [==============================] - 0s 5ms/step - loss: 6642.6631 - val_loss: 4385.3896\n",
            "Epoch 13/50\n",
            "21/21 [==============================] - 0s 5ms/step - loss: 6642.3740 - val_loss: 4385.0991\n",
            "Epoch 14/50\n",
            "21/21 [==============================] - 0s 5ms/step - loss: 6642.0830 - val_loss: 4384.8096\n",
            "Epoch 15/50\n",
            "21/21 [==============================] - 0s 5ms/step - loss: 6641.7935 - val_loss: 4384.5190\n",
            "Epoch 16/50\n",
            "21/21 [==============================] - 0s 5ms/step - loss: 6641.5039 - val_loss: 4384.2295\n",
            "Epoch 17/50\n",
            "21/21 [==============================] - 0s 5ms/step - loss: 6641.2134 - val_loss: 4383.9390\n",
            "Epoch 18/50\n",
            "21/21 [==============================] - 0s 5ms/step - loss: 6640.9233 - val_loss: 4383.6494\n",
            "Epoch 19/50\n",
            "21/21 [==============================] - 0s 5ms/step - loss: 6640.6343 - val_loss: 4383.3599\n",
            "Epoch 20/50\n",
            "21/21 [==============================] - 0s 6ms/step - loss: 6640.3447 - val_loss: 4383.0693\n",
            "Epoch 21/50\n",
            "21/21 [==============================] - 0s 5ms/step - loss: 6640.0542 - val_loss: 4382.7798\n",
            "Epoch 22/50\n",
            "21/21 [==============================] - 0s 5ms/step - loss: 6639.7646 - val_loss: 4382.4897\n",
            "Epoch 23/50\n",
            "21/21 [==============================] - 0s 4ms/step - loss: 6639.4727 - val_loss: 4382.1997\n",
            "Epoch 24/50\n",
            "21/21 [==============================] - 0s 5ms/step - loss: 6639.1831 - val_loss: 4381.9092\n",
            "Epoch 25/50\n",
            "21/21 [==============================] - 0s 5ms/step - loss: 6638.8936 - val_loss: 4381.6196\n",
            "Epoch 26/50\n",
            "21/21 [==============================] - 0s 5ms/step - loss: 6638.6040 - val_loss: 4381.3291\n",
            "Epoch 27/50\n",
            "21/21 [==============================] - 0s 7ms/step - loss: 6638.3135 - val_loss: 4381.0396\n",
            "Epoch 28/50\n",
            "21/21 [==============================] - 0s 7ms/step - loss: 6638.0239 - val_loss: 4380.7495\n",
            "Epoch 29/50\n",
            "21/21 [==============================] - 0s 6ms/step - loss: 6637.7344 - val_loss: 4380.4600\n",
            "Epoch 30/50\n",
            "21/21 [==============================] - 0s 8ms/step - loss: 6637.4434 - val_loss: 4380.1694\n",
            "Epoch 31/50\n",
            "21/21 [==============================] - 0s 7ms/step - loss: 6637.1538 - val_loss: 4379.8794\n",
            "Epoch 32/50\n",
            "21/21 [==============================] - 0s 6ms/step - loss: 6636.8643 - val_loss: 4379.5894\n",
            "Epoch 33/50\n",
            "21/21 [==============================] - 0s 6ms/step - loss: 6636.5737 - val_loss: 4379.2998\n",
            "Epoch 34/50\n",
            "21/21 [==============================] - 0s 6ms/step - loss: 6636.2832 - val_loss: 4379.0098\n",
            "Epoch 35/50\n",
            "21/21 [==============================] - 0s 7ms/step - loss: 6635.9937 - val_loss: 4378.7197\n",
            "Epoch 36/50\n",
            "21/21 [==============================] - 0s 6ms/step - loss: 6635.7036 - val_loss: 4378.4297\n",
            "Epoch 37/50\n",
            "21/21 [==============================] - 0s 7ms/step - loss: 6635.4141 - val_loss: 4378.1401\n",
            "Epoch 38/50\n",
            "21/21 [==============================] - 0s 7ms/step - loss: 6635.1240 - val_loss: 4377.8501\n",
            "Epoch 39/50\n",
            "21/21 [==============================] - 0s 6ms/step - loss: 6634.8354 - val_loss: 4377.5596\n",
            "Epoch 40/50\n",
            "21/21 [==============================] - 0s 7ms/step - loss: 6634.5435 - val_loss: 4377.2700\n",
            "Epoch 41/50\n",
            "21/21 [==============================] - 0s 6ms/step - loss: 6634.2549 - val_loss: 4376.9800\n",
            "Epoch 42/50\n",
            "21/21 [==============================] - 0s 7ms/step - loss: 6633.9644 - val_loss: 4376.6904\n",
            "Epoch 43/50\n",
            "21/21 [==============================] - 0s 7ms/step - loss: 6633.6748 - val_loss: 4376.3999\n",
            "Epoch 44/50\n",
            "21/21 [==============================] - 0s 6ms/step - loss: 6633.3833 - val_loss: 4376.1099\n",
            "Epoch 45/50\n",
            "21/21 [==============================] - 0s 7ms/step - loss: 6633.0947 - val_loss: 4375.8203\n",
            "Epoch 46/50\n",
            "21/21 [==============================] - 0s 7ms/step - loss: 6632.8042 - val_loss: 4375.5308\n",
            "Epoch 47/50\n",
            "21/21 [==============================] - 0s 7ms/step - loss: 6632.5146 - val_loss: 4375.2402\n",
            "Epoch 48/50\n",
            "21/21 [==============================] - 0s 6ms/step - loss: 6632.2251 - val_loss: 4374.9502\n",
            "Epoch 49/50\n",
            "21/21 [==============================] - 0s 7ms/step - loss: 6631.9341 - val_loss: 4374.6606\n",
            "Epoch 50/50\n",
            "21/21 [==============================] - 0s 7ms/step - loss: 6631.6436 - val_loss: 4374.3701\n"
          ]
        },
        {
          "output_type": "execute_result",
          "data": {
            "text/plain": [
              "<keras.callbacks.History at 0x7fa771df0820>"
            ]
          },
          "metadata": {},
          "execution_count": 117
        }
      ]
    },
    {
      "cell_type": "code",
      "source": [
        "pref_dfv1 = model2.predict(x_test2)"
      ],
      "metadata": {
        "colab": {
          "base_uri": "https://localhost:8080/"
        },
        "id": "NYV0e3TnAul-",
        "outputId": "ed0c62e6-3be2-4377-9b5b-b6086c899369"
      },
      "execution_count": 173,
      "outputs": [
        {
          "output_type": "stream",
          "name": "stdout",
          "text": [
            "2/2 [==============================] - 0s 5ms/step\n"
          ]
        }
      ]
    },
    {
      "cell_type": "code",
      "source": [
        "pref_dfv1"
      ],
      "metadata": {
        "id": "8MrEzN18OWXk",
        "outputId": "2dade2bf-689c-4afc-a61f-0b131d3b76d1",
        "colab": {
          "base_uri": "https://localhost:8080/"
        }
      },
      "execution_count": 174,
      "outputs": [
        {
          "output_type": "execute_result",
          "data": {
            "text/plain": [
              "array([[4574.244 ],\n",
              "       [4574.23  ],\n",
              "       [4574.4707],\n",
              "       [4575.7256],\n",
              "       [4640.0376],\n",
              "       [4623.199 ],\n",
              "       [4623.221 ],\n",
              "       [4623.2715],\n",
              "       [4623.365 ],\n",
              "       [4665.5146],\n",
              "       [4666.853 ],\n",
              "       [4672.914 ],\n",
              "       [4673.7666],\n",
              "       [4673.8813],\n",
              "       [4673.897 ],\n",
              "       [4673.897 ],\n",
              "       [4673.897 ],\n",
              "       [4673.883 ],\n",
              "       [4673.8315],\n",
              "       [4673.452 ],\n",
              "       [4670.6865],\n",
              "       [4670.696 ],\n",
              "       [4669.2476],\n",
              "       [4673.451 ],\n",
              "       [4673.831 ],\n",
              "       [4673.8833],\n",
              "       [4673.8906],\n",
              "       [4673.891 ],\n",
              "       [4673.897 ],\n",
              "       [4673.883 ],\n",
              "       [4673.8315],\n",
              "       [4673.4536],\n",
              "       [4670.6577],\n",
              "       [4670.6577],\n",
              "       [4670.6577],\n",
              "       [4673.4536],\n",
              "       [4673.8325],\n",
              "       [4673.8843],\n",
              "       [4673.897 ],\n",
              "       [4673.897 ],\n",
              "       [4673.897 ],\n",
              "       [4673.8853],\n",
              "       [4673.834 ],\n",
              "       [4673.466 ],\n",
              "       [4670.7837]], dtype=float32)"
            ]
          },
          "metadata": {},
          "execution_count": 174
        }
      ]
    },
    {
      "cell_type": "code",
      "source": [
        "plt.plot(pref_dfv1)\n",
        "plt.plot(y_test_vvp)"
      ],
      "metadata": {
        "colab": {
          "base_uri": "https://localhost:8080/",
          "height": 447
        },
        "id": "KTSwNP9NBVT8",
        "outputId": "8d0e8d2b-55e2-4a2c-9ed1-6c172388557b"
      },
      "execution_count": 175,
      "outputs": [
        {
          "output_type": "execute_result",
          "data": {
            "text/plain": [
              "[<matplotlib.lines.Line2D at 0x7fa762c598a0>]"
            ]
          },
          "metadata": {},
          "execution_count": 175
        },
        {
          "output_type": "display_data",
          "data": {
            "text/plain": [
              "<Figure size 640x480 with 1 Axes>"
            ],
            "image/png": "[encoded data removed]"
          },
          "metadata": {}
        }
      ]
    },
    {
      "cell_type": "code",
      "execution_count": 177,
      "metadata": {
        "colab": {
          "base_uri": "https://localhost:8080/"
        },
        "id": "CooUZURz6D_i",
        "outputId": "83756b76-2b3a-42bf-f8a7-681516386122"
      },
      "outputs": [
        {
          "output_type": "stream",
          "name": "stdout",
          "text": [
            "Epoch 1/300\n",
            "11/11 [==============================] - 2s 44ms/step - loss: 55821560.0000 - val_loss: 20944660.0000\n",
            "Epoch 2/300\n",
            "11/11 [==============================] - 0s 8ms/step - loss: 55674732.0000 - val_loss: 20799644.0000\n",
            "Epoch 3/300\n",
            "11/11 [==============================] - 0s 8ms/step - loss: 55389068.0000 - val_loss: 20517754.0000\n",
            "Epoch 4/300\n",
            "11/11 [==============================] - 0s 8ms/step - loss: 54829412.0000 - val_loss: 19995212.0000\n",
            "Epoch 5/300\n",
            "11/11 [==============================] - 0s 8ms/step - loss: 53860104.0000 - val_loss: 19120236.0000\n",
            "Epoch 6/300\n",
            "11/11 [==============================] - 0s 8ms/step - loss: 52256064.0000 - val_loss: 17821984.0000\n",
            "Epoch 7/300\n",
            "11/11 [==============================] - 0s 8ms/step - loss: 49924652.0000 - val_loss: 16024838.0000\n",
            "Epoch 8/300\n",
            "11/11 [==============================] - 0s 8ms/step - loss: 46873968.0000 - val_loss: 13773983.0000\n",
            "Epoch 9/300\n",
            "11/11 [==============================] - 0s 6ms/step - loss: 42723160.0000 - val_loss: 10828761.0000\n",
            "Epoch 10/300\n",
            "11/11 [==============================] - 0s 6ms/step - loss: 37362044.0000 - val_loss: 7782004.5000\n",
            "Epoch 11/300\n",
            "11/11 [==============================] - 0s 8ms/step - loss: 32006414.0000 - val_loss: 4981112.0000\n",
            "Epoch 12/300\n",
            "11/11 [==============================] - 0s 7ms/step - loss: 26549212.0000 - val_loss: 2722565.2500\n",
            "Epoch 13/300\n",
            "11/11 [==============================] - 0s 7ms/step - loss: 21521984.0000 - val_loss: 1322607.8750\n",
            "Epoch 14/300\n",
            "11/11 [==============================] - 0s 5ms/step - loss: 17071524.0000 - val_loss: 975884.0625\n",
            "Epoch 15/300\n",
            "11/11 [==============================] - 0s 6ms/step - loss: 13856132.0000 - val_loss: 1609324.5000\n",
            "Epoch 16/300\n",
            "11/11 [==============================] - 0s 7ms/step - loss: 11822691.0000 - val_loss: 3040712.5000\n",
            "Epoch 17/300\n",
            "11/11 [==============================] - 0s 7ms/step - loss: 10396824.0000 - val_loss: 3469607.5000\n",
            "Epoch 18/300\n",
            "11/11 [==============================] - 0s 7ms/step - loss: 9607710.0000 - val_loss: 4769050.0000\n",
            "Epoch 19/300\n",
            "11/11 [==============================] - 0s 8ms/step - loss: 9466604.0000 - val_loss: 5961517.5000\n",
            "Epoch 20/300\n",
            "11/11 [==============================] - 0s 6ms/step - loss: 9443149.0000 - val_loss: 5583784.5000\n",
            "Epoch 21/300\n",
            "11/11 [==============================] - 0s 8ms/step - loss: 9400089.0000 - val_loss: 5658603.5000\n",
            "Epoch 22/300\n",
            "11/11 [==============================] - 0s 7ms/step - loss: 9369177.0000 - val_loss: 5954306.0000\n",
            "Epoch 23/300\n",
            "11/11 [==============================] - 0s 6ms/step - loss: 9411639.0000 - val_loss: 4985082.5000\n",
            "Epoch 24/300\n",
            "11/11 [==============================] - 0s 8ms/step - loss: 9274886.0000 - val_loss: 4992250.5000\n",
            "Epoch 25/300\n",
            "11/11 [==============================] - 0s 6ms/step - loss: 9239797.0000 - val_loss: 4907945.0000\n",
            "Epoch 26/300\n",
            "11/11 [==============================] - 0s 9ms/step - loss: 9211921.0000 - val_loss: 4555489.5000\n",
            "Epoch 27/300\n",
            "11/11 [==============================] - 0s 7ms/step - loss: 9187593.0000 - val_loss: 4527823.5000\n",
            "Epoch 28/300\n",
            "11/11 [==============================] - 0s 6ms/step - loss: 9171423.0000 - val_loss: 4271309.5000\n",
            "Epoch 29/300\n",
            "11/11 [==============================] - 0s 7ms/step - loss: 9135422.0000 - val_loss: 5003260.0000\n",
            "Epoch 30/300\n",
            "11/11 [==============================] - 0s 7ms/step - loss: 9070839.0000 - val_loss: 5164050.5000\n",
            "Epoch 31/300\n",
            "11/11 [==============================] - 0s 7ms/step - loss: 9042296.0000 - val_loss: 5340056.0000\n",
            "Epoch 32/300\n",
            "11/11 [==============================] - 0s 8ms/step - loss: 9025716.0000 - val_loss: 5482175.5000\n",
            "Epoch 33/300\n",
            "11/11 [==============================] - 0s 6ms/step - loss: 8998230.0000 - val_loss: 5215293.0000\n",
            "Epoch 34/300\n",
            "11/11 [==============================] - 0s 7ms/step - loss: 8953203.0000 - val_loss: 4997774.5000\n",
            "Epoch 35/300\n",
            "11/11 [==============================] - 0s 6ms/step - loss: 8889923.0000 - val_loss: 4587588.0000\n",
            "Epoch 36/300\n",
            "11/11 [==============================] - 0s 7ms/step - loss: 8890009.0000 - val_loss: 4719682.0000\n",
            "Epoch 37/300\n",
            "11/11 [==============================] - 0s 6ms/step - loss: 8849281.0000 - val_loss: 4800797.0000\n",
            "Epoch 38/300\n",
            "11/11 [==============================] - 0s 6ms/step - loss: 8849757.0000 - val_loss: 4957105.0000\n",
            "Epoch 39/300\n",
            "11/11 [==============================] - 0s 6ms/step - loss: 8757106.0000 - val_loss: 4335360.5000\n",
            "Epoch 40/300\n",
            "11/11 [==============================] - 0s 8ms/step - loss: 8819511.0000 - val_loss: 3742907.0000\n",
            "Epoch 41/300\n",
            "11/11 [==============================] - 0s 7ms/step - loss: 8804944.0000 - val_loss: 3415398.0000\n",
            "Epoch 42/300\n",
            "11/11 [==============================] - 0s 8ms/step - loss: 8682060.0000 - val_loss: 4016055.5000\n",
            "Epoch 43/300\n",
            "11/11 [==============================] - 0s 6ms/step - loss: 8587220.0000 - val_loss: 4372461.5000\n",
            "Epoch 44/300\n",
            "11/11 [==============================] - 0s 6ms/step - loss: 8556736.0000 - val_loss: 4534629.5000\n",
            "Epoch 45/300\n",
            "11/11 [==============================] - 0s 8ms/step - loss: 8511249.0000 - val_loss: 4326206.5000\n",
            "Epoch 46/300\n",
            "11/11 [==============================] - 0s 7ms/step - loss: 8768037.0000 - val_loss: 3848862.5000\n",
            "Epoch 47/300\n",
            "11/11 [==============================] - 0s 8ms/step - loss: 8509803.0000 - val_loss: 7022672.5000\n",
            "Epoch 48/300\n",
            "11/11 [==============================] - 0s 5ms/step - loss: 9012972.0000 - val_loss: 4339035.5000\n",
            "Epoch 49/300\n",
            "11/11 [==============================] - 0s 7ms/step - loss: 8317462.5000 - val_loss: 4120027.7500\n",
            "Epoch 50/300\n",
            "11/11 [==============================] - 0s 8ms/step - loss: 8247062.5000 - val_loss: 4179743.0000\n",
            "Epoch 51/300\n",
            "11/11 [==============================] - 0s 8ms/step - loss: 8131319.5000 - val_loss: 4218382.0000\n",
            "Epoch 52/300\n",
            "11/11 [==============================] - 0s 6ms/step - loss: 8074822.0000 - val_loss: 4477588.5000\n",
            "Epoch 53/300\n",
            "11/11 [==============================] - 0s 6ms/step - loss: 8072870.0000 - val_loss: 4510169.0000\n",
            "Epoch 54/300\n",
            "11/11 [==============================] - 0s 9ms/step - loss: 7999313.0000 - val_loss: 4290541.5000\n",
            "Epoch 55/300\n",
            "11/11 [==============================] - 0s 6ms/step - loss: 7945687.5000 - val_loss: 4568204.0000\n",
            "Epoch 56/300\n",
            "11/11 [==============================] - 0s 8ms/step - loss: 7874040.0000 - val_loss: 4654626.5000\n",
            "Epoch 57/300\n",
            "11/11 [==============================] - 0s 7ms/step - loss: 7900931.0000 - val_loss: 4735655.0000\n",
            "Epoch 58/300\n",
            "11/11 [==============================] - 0s 8ms/step - loss: 7868472.5000 - val_loss: 4189302.7500\n",
            "Epoch 59/300\n",
            "11/11 [==============================] - 0s 9ms/step - loss: 7798110.0000 - val_loss: 4341659.0000\n",
            "Epoch 60/300\n",
            "11/11 [==============================] - 0s 8ms/step - loss: 7669537.5000 - val_loss: 4133053.7500\n",
            "Epoch 61/300\n",
            "11/11 [==============================] - 0s 6ms/step - loss: 7627296.0000 - val_loss: 4348675.5000\n",
            "Epoch 62/300\n",
            "11/11 [==============================] - 0s 7ms/step - loss: 7621191.0000 - val_loss: 4598589.5000\n",
            "Epoch 63/300\n",
            "11/11 [==============================] - 0s 6ms/step - loss: 7603199.0000 - val_loss: 4550498.0000\n",
            "Epoch 64/300\n",
            "11/11 [==============================] - 0s 9ms/step - loss: 7589445.0000 - val_loss: 4760365.0000\n",
            "Epoch 65/300\n",
            "11/11 [==============================] - 0s 11ms/step - loss: 7470026.0000 - val_loss: 4322648.0000\n",
            "Epoch 66/300\n",
            "11/11 [==============================] - 0s 8ms/step - loss: 7391438.5000 - val_loss: 3783938.5000\n",
            "Epoch 67/300\n",
            "11/11 [==============================] - 0s 10ms/step - loss: 7335500.5000 - val_loss: 3434093.2500\n",
            "Epoch 68/300\n",
            "11/11 [==============================] - 0s 8ms/step - loss: 7301757.5000 - val_loss: 3983137.7500\n",
            "Epoch 69/300\n",
            "11/11 [==============================] - 0s 10ms/step - loss: 7226045.0000 - val_loss: 4065759.7500\n",
            "Epoch 70/300\n",
            "11/11 [==============================] - 0s 11ms/step - loss: 7249114.0000 - val_loss: 3986908.7500\n",
            "Epoch 71/300\n",
            "11/11 [==============================] - 0s 10ms/step - loss: 7272110.0000 - val_loss: 3711434.0000\n",
            "Epoch 72/300\n",
            "11/11 [==============================] - 0s 13ms/step - loss: 7164402.5000 - val_loss: 4006837.2500\n",
            "Epoch 73/300\n",
            "11/11 [==============================] - 0s 10ms/step - loss: 7172290.0000 - val_loss: 3805647.7500\n",
            "Epoch 74/300\n",
            "11/11 [==============================] - 0s 10ms/step - loss: 7050332.0000 - val_loss: 3579028.5000\n",
            "Epoch 75/300\n",
            "11/11 [==============================] - 0s 10ms/step - loss: 6973332.0000 - val_loss: 4162303.0000\n",
            "Epoch 76/300\n",
            "11/11 [==============================] - 0s 10ms/step - loss: 6917439.0000 - val_loss: 3661370.0000\n",
            "Epoch 77/300\n",
            "11/11 [==============================] - 0s 10ms/step - loss: 6501175.0000 - val_loss: 2524800.2500\n",
            "Epoch 78/300\n",
            "11/11 [==============================] - 0s 8ms/step - loss: 6780664.0000 - val_loss: 2534044.0000\n",
            "Epoch 79/300\n",
            "11/11 [==============================] - 0s 10ms/step - loss: 6679403.5000 - val_loss: 2894155.0000\n",
            "Epoch 80/300\n",
            "11/11 [==============================] - 0s 9ms/step - loss: 6578623.5000 - val_loss: 3130631.0000\n",
            "Epoch 81/300\n",
            "11/11 [==============================] - 0s 8ms/step - loss: 6523730.5000 - val_loss: 2994057.5000\n",
            "Epoch 82/300\n",
            "11/11 [==============================] - 0s 6ms/step - loss: 6480852.5000 - val_loss: 2852636.5000\n",
            "Epoch 83/300\n",
            "11/11 [==============================] - 0s 8ms/step - loss: 6424770.5000 - val_loss: 3355988.2500\n",
            "Epoch 84/300\n",
            "11/11 [==============================] - 0s 8ms/step - loss: 6376706.5000 - val_loss: 3568762.7500\n",
            "Epoch 85/300\n",
            "11/11 [==============================] - 0s 6ms/step - loss: 6336109.0000 - val_loss: 3651159.0000\n",
            "Epoch 86/300\n",
            "11/11 [==============================] - 0s 7ms/step - loss: 6308609.0000 - val_loss: 3594589.7500\n",
            "Epoch 87/300\n",
            "11/11 [==============================] - 0s 6ms/step - loss: 6255382.0000 - val_loss: 3510279.0000\n",
            "Epoch 88/300\n",
            "11/11 [==============================] - 0s 8ms/step - loss: 6217042.5000 - val_loss: 3648736.2500\n",
            "Epoch 89/300\n",
            "11/11 [==============================] - 0s 7ms/step - loss: 6182418.5000 - val_loss: 3305285.0000\n",
            "Epoch 90/300\n",
            "11/11 [==============================] - 0s 7ms/step - loss: 6141968.5000 - val_loss: 2754297.0000\n",
            "Epoch 91/300\n",
            "11/11 [==============================] - 0s 8ms/step - loss: 6175405.0000 - val_loss: 3166262.7500\n",
            "Epoch 92/300\n",
            "11/11 [==============================] - 0s 8ms/step - loss: 6093978.5000 - val_loss: 3120130.5000\n",
            "Epoch 93/300\n",
            "11/11 [==============================] - 0s 7ms/step - loss: 5921373.0000 - val_loss: 2704336.2500\n",
            "Epoch 94/300\n",
            "11/11 [==============================] - 0s 8ms/step - loss: 5891444.0000 - val_loss: 3248013.7500\n",
            "Epoch 95/300\n",
            "11/11 [==============================] - 0s 7ms/step - loss: 5872995.0000 - val_loss: 3987838.5000\n",
            "Epoch 96/300\n",
            "11/11 [==============================] - 0s 5ms/step - loss: 5800779.0000 - val_loss: 3393906.2500\n",
            "Epoch 97/300\n",
            "11/11 [==============================] - 0s 6ms/step - loss: 5744815.5000 - val_loss: 3214548.2500\n",
            "Epoch 98/300\n",
            "11/11 [==============================] - 0s 6ms/step - loss: 5701559.5000 - val_loss: 3100571.0000\n",
            "Epoch 99/300\n",
            "11/11 [==============================] - 0s 8ms/step - loss: 5691412.0000 - val_loss: 2754978.2500\n",
            "Epoch 100/300\n",
            "11/11 [==============================] - 0s 8ms/step - loss: 5610345.5000 - val_loss: 2935559.7500\n",
            "Epoch 101/300\n",
            "11/11 [==============================] - 0s 6ms/step - loss: 5561353.0000 - val_loss: 2788594.7500\n",
            "Epoch 102/300\n",
            "11/11 [==============================] - 0s 9ms/step - loss: 5539485.5000 - val_loss: 2832189.2500\n",
            "Epoch 103/300\n",
            "11/11 [==============================] - 0s 6ms/step - loss: 5474082.5000 - val_loss: 2374105.5000\n",
            "Epoch 104/300\n",
            "11/11 [==============================] - 0s 8ms/step - loss: 5454934.5000 - val_loss: 2224718.2500\n",
            "Epoch 105/300\n",
            "11/11 [==============================] - 0s 8ms/step - loss: 5376738.0000 - val_loss: 2429339.7500\n",
            "Epoch 106/300\n",
            "11/11 [==============================] - 0s 7ms/step - loss: 5313990.0000 - val_loss: 2799093.7500\n",
            "Epoch 107/300\n",
            "11/11 [==============================] - 0s 7ms/step - loss: 5279653.0000 - val_loss: 2547722.2500\n",
            "Epoch 108/300\n",
            "11/11 [==============================] - 0s 8ms/step - loss: 5213659.5000 - val_loss: 2489777.0000\n",
            "Epoch 109/300\n",
            "11/11 [==============================] - 0s 8ms/step - loss: 5174839.5000 - val_loss: 2487576.0000\n",
            "Epoch 110/300\n",
            "11/11 [==============================] - 0s 8ms/step - loss: 5131828.0000 - val_loss: 2957549.2500\n",
            "Epoch 111/300\n",
            "11/11 [==============================] - 0s 7ms/step - loss: 5077388.5000 - val_loss: 3081273.5000\n",
            "Epoch 112/300\n",
            "11/11 [==============================] - 0s 6ms/step - loss: 5046426.5000 - val_loss: 2972947.0000\n",
            "Epoch 113/300\n",
            "11/11 [==============================] - 0s 8ms/step - loss: 4972258.0000 - val_loss: 2584618.2500\n",
            "Epoch 114/300\n",
            "11/11 [==============================] - 0s 6ms/step - loss: 4946024.0000 - val_loss: 2556672.7500\n",
            "Epoch 115/300\n",
            "11/11 [==============================] - 0s 8ms/step - loss: 4891247.0000 - val_loss: 2560142.5000\n",
            "Epoch 116/300\n",
            "11/11 [==============================] - 0s 7ms/step - loss: 4855730.0000 - val_loss: 2387477.5000\n",
            "Epoch 117/300\n",
            "11/11 [==============================] - 0s 9ms/step - loss: 4823120.5000 - val_loss: 2088532.2500\n",
            "Epoch 118/300\n",
            "11/11 [==============================] - 0s 6ms/step - loss: 4753441.0000 - val_loss: 2069124.7500\n",
            "Epoch 119/300\n",
            "11/11 [==============================] - 0s 7ms/step - loss: 4706624.0000 - val_loss: 1983112.5000\n",
            "Epoch 120/300\n",
            "11/11 [==============================] - 0s 8ms/step - loss: 4654488.5000 - val_loss: 1929746.6250\n",
            "Epoch 121/300\n",
            "11/11 [==============================] - 0s 8ms/step - loss: 4638965.5000 - val_loss: 2042171.3750\n",
            "Epoch 122/300\n",
            "11/11 [==============================] - 0s 5ms/step - loss: 4559265.5000 - val_loss: 1857693.1250\n",
            "Epoch 123/300\n",
            "11/11 [==============================] - 0s 6ms/step - loss: 4533507.0000 - val_loss: 1901953.3750\n",
            "Epoch 124/300\n",
            "11/11 [==============================] - 0s 6ms/step - loss: 4483234.0000 - val_loss: 1913869.8750\n",
            "Epoch 125/300\n",
            "11/11 [==============================] - 0s 6ms/step - loss: 4453474.0000 - val_loss: 1793518.6250\n",
            "Epoch 126/300\n",
            "11/11 [==============================] - 0s 7ms/step - loss: 4381470.5000 - val_loss: 2082834.1250\n",
            "Epoch 127/300\n",
            "11/11 [==============================] - 0s 7ms/step - loss: 4340959.0000 - val_loss: 2100932.0000\n",
            "Epoch 128/300\n",
            "11/11 [==============================] - 0s 8ms/step - loss: 4300797.5000 - val_loss: 1884466.8750\n",
            "Epoch 129/300\n",
            "11/11 [==============================] - 0s 8ms/step - loss: 4268791.0000 - val_loss: 2170764.7500\n",
            "Epoch 130/300\n",
            "11/11 [==============================] - 0s 6ms/step - loss: 4301176.5000 - val_loss: 1088618.0000\n",
            "Epoch 131/300\n",
            "11/11 [==============================] - 0s 8ms/step - loss: 5298125.5000 - val_loss: 1202519.5000\n",
            "Epoch 132/300\n",
            "11/11 [==============================] - 0s 8ms/step - loss: 5130115.0000 - val_loss: 2652804.0000\n",
            "Epoch 133/300\n",
            "11/11 [==============================] - 0s 8ms/step - loss: 4542910.0000 - val_loss: 4182869.2500\n",
            "Epoch 134/300\n",
            "11/11 [==============================] - 0s 7ms/step - loss: 4273832.0000 - val_loss: 3680084.0000\n",
            "Epoch 135/300\n",
            "11/11 [==============================] - 0s 6ms/step - loss: 4121024.7500 - val_loss: 2925781.2500\n",
            "Epoch 136/300\n",
            "11/11 [==============================] - 0s 8ms/step - loss: 4050891.2500 - val_loss: 2577657.0000\n",
            "Epoch 137/300\n",
            "11/11 [==============================] - 0s 8ms/step - loss: 4042659.7500 - val_loss: 2582593.5000\n",
            "Epoch 138/300\n",
            "11/11 [==============================] - 0s 7ms/step - loss: 3995966.7500 - val_loss: 2852045.2500\n",
            "Epoch 139/300\n",
            "11/11 [==============================] - 0s 9ms/step - loss: 3975599.2500 - val_loss: 3192185.2500\n",
            "Epoch 140/300\n",
            "11/11 [==============================] - 0s 6ms/step - loss: 3963779.5000 - val_loss: 3235642.2500\n",
            "Epoch 141/300\n",
            "11/11 [==============================] - 0s 6ms/step - loss: 3914419.2500 - val_loss: 2978724.2500\n",
            "Epoch 142/300\n",
            "11/11 [==============================] - 0s 7ms/step - loss: 3888145.0000 - val_loss: 3029314.7500\n",
            "Epoch 143/300\n",
            "11/11 [==============================] - 0s 7ms/step - loss: 3875285.0000 - val_loss: 3203605.2500\n",
            "Epoch 144/300\n",
            "11/11 [==============================] - 0s 6ms/step - loss: 3845934.5000 - val_loss: 2891290.7500\n",
            "Epoch 145/300\n",
            "11/11 [==============================] - 0s 6ms/step - loss: 3815544.5000 - val_loss: 2947799.2500\n",
            "Epoch 146/300\n",
            "11/11 [==============================] - 0s 8ms/step - loss: 3795135.2500 - val_loss: 3009449.5000\n",
            "Epoch 147/300\n",
            "11/11 [==============================] - 0s 8ms/step - loss: 3773919.5000 - val_loss: 2843968.5000\n",
            "Epoch 148/300\n",
            "11/11 [==============================] - 0s 6ms/step - loss: 3760401.0000 - val_loss: 2983517.2500\n",
            "Epoch 149/300\n",
            "11/11 [==============================] - 0s 6ms/step - loss: 3717875.2500 - val_loss: 2820282.2500\n",
            "Epoch 150/300\n",
            "11/11 [==============================] - 0s 7ms/step - loss: 3706584.7500 - val_loss: 2869454.7500\n",
            "Epoch 151/300\n",
            "11/11 [==============================] - 0s 8ms/step - loss: 3681057.7500 - val_loss: 2887099.0000\n",
            "Epoch 152/300\n",
            "11/11 [==============================] - 0s 8ms/step - loss: 3663663.0000 - val_loss: 2733505.5000\n",
            "Epoch 153/300\n",
            "11/11 [==============================] - 0s 6ms/step - loss: 3677540.5000 - val_loss: 2627896.2500\n",
            "Epoch 154/300\n",
            "11/11 [==============================] - 0s 6ms/step - loss: 3639091.2500 - val_loss: 2794444.7500\n",
            "Epoch 155/300\n",
            "11/11 [==============================] - 0s 8ms/step - loss: 3592002.5000 - val_loss: 3316744.5000\n",
            "Epoch 156/300\n",
            "11/11 [==============================] - 0s 7ms/step - loss: 3597025.7500 - val_loss: 3307660.5000\n",
            "Epoch 157/300\n",
            "11/11 [==============================] - 0s 6ms/step - loss: 3571620.2500 - val_loss: 3133168.2500\n",
            "Epoch 158/300\n",
            "11/11 [==============================] - 0s 6ms/step - loss: 3558534.7500 - val_loss: 2969517.7500\n",
            "Epoch 159/300\n",
            "11/11 [==============================] - 0s 8ms/step - loss: 3567667.2500 - val_loss: 2798669.7500\n",
            "Epoch 160/300\n",
            "11/11 [==============================] - 0s 9ms/step - loss: 3541282.5000 - val_loss: 2925273.0000\n",
            "Epoch 161/300\n",
            "11/11 [==============================] - 0s 8ms/step - loss: 3515218.7500 - val_loss: 3203749.7500\n",
            "Epoch 162/300\n",
            "11/11 [==============================] - 0s 7ms/step - loss: 3513263.0000 - val_loss: 3151849.5000\n",
            "Epoch 163/300\n",
            "11/11 [==============================] - 0s 6ms/step - loss: 3501831.5000 - val_loss: 3223728.2500\n",
            "Epoch 164/300\n",
            "11/11 [==============================] - 0s 7ms/step - loss: 3492490.0000 - val_loss: 3122073.0000\n",
            "Epoch 165/300\n",
            "11/11 [==============================] - 0s 8ms/step - loss: 3482186.7500 - val_loss: 3181841.7500\n",
            "Epoch 166/300\n",
            "11/11 [==============================] - 0s 7ms/step - loss: 3468598.5000 - val_loss: 3692677.0000\n",
            "Epoch 167/300\n",
            "11/11 [==============================] - 0s 6ms/step - loss: 3553064.2500 - val_loss: 3917291.0000\n",
            "Epoch 168/300\n",
            "11/11 [==============================] - 0s 7ms/step - loss: 3511112.0000 - val_loss: 3513490.2500\n",
            "Epoch 169/300\n",
            "11/11 [==============================] - 0s 7ms/step - loss: 3463872.5000 - val_loss: 3322801.5000\n",
            "Epoch 170/300\n",
            "11/11 [==============================] - 0s 8ms/step - loss: 3455635.0000 - val_loss: 3228934.7500\n",
            "Epoch 171/300\n",
            "11/11 [==============================] - 0s 8ms/step - loss: 3442223.0000 - val_loss: 3198475.5000\n",
            "Epoch 172/300\n",
            "11/11 [==============================] - 0s 6ms/step - loss: 3439576.2500 - val_loss: 3159280.2500\n",
            "Epoch 173/300\n",
            "11/11 [==============================] - 0s 6ms/step - loss: 3470045.7500 - val_loss: 2943727.0000\n",
            "Epoch 174/300\n",
            "11/11 [==============================] - 0s 8ms/step - loss: 3437178.7500 - val_loss: 3171519.0000\n",
            "Epoch 175/300\n",
            "11/11 [==============================] - 0s 6ms/step - loss: 3411627.0000 - val_loss: 3337888.7500\n",
            "Epoch 176/300\n",
            "11/11 [==============================] - 0s 9ms/step - loss: 3411181.2500 - val_loss: 3244844.7500\n",
            "Epoch 177/300\n",
            "11/11 [==============================] - 0s 8ms/step - loss: 3442430.5000 - val_loss: 3168473.0000\n",
            "Epoch 178/300\n",
            "11/11 [==============================] - 0s 6ms/step - loss: 3440799.7500 - val_loss: 3637287.7500\n",
            "Epoch 179/300\n",
            "11/11 [==============================] - 0s 8ms/step - loss: 3464833.2500 - val_loss: 3749765.7500\n",
            "Epoch 180/300\n",
            "11/11 [==============================] - 0s 8ms/step - loss: 3453384.2500 - val_loss: 3584384.7500\n",
            "Epoch 181/300\n",
            "11/11 [==============================] - 0s 6ms/step - loss: 3403492.5000 - val_loss: 3150102.0000\n",
            "Epoch 182/300\n",
            "11/11 [==============================] - 0s 8ms/step - loss: 3438169.0000 - val_loss: 2976444.0000\n",
            "Epoch 183/300\n",
            "11/11 [==============================] - 0s 8ms/step - loss: 3438611.0000 - val_loss: 3053714.2500\n",
            "Epoch 184/300\n",
            "11/11 [==============================] - 0s 7ms/step - loss: 3434872.5000 - val_loss: 3044468.5000\n",
            "Epoch 185/300\n",
            "11/11 [==============================] - 0s 8ms/step - loss: 3426561.5000 - val_loss: 3142584.2500\n",
            "Epoch 186/300\n",
            "11/11 [==============================] - 0s 6ms/step - loss: 3414272.0000 - val_loss: 3132496.7500\n",
            "Epoch 187/300\n",
            "11/11 [==============================] - 0s 6ms/step - loss: 3406550.7500 - val_loss: 3301834.2500\n",
            "Epoch 188/300\n",
            "11/11 [==============================] - 0s 7ms/step - loss: 3396960.2500 - val_loss: 3243298.5000\n",
            "Epoch 189/300\n",
            "11/11 [==============================] - 0s 6ms/step - loss: 3402637.0000 - val_loss: 3099562.0000\n",
            "Epoch 190/300\n",
            "11/11 [==============================] - 0s 7ms/step - loss: 3419747.0000 - val_loss: 3125718.5000\n",
            "Epoch 191/300\n",
            "11/11 [==============================] - 0s 7ms/step - loss: 3405828.0000 - val_loss: 3367755.5000\n",
            "Epoch 192/300\n",
            "11/11 [==============================] - 0s 6ms/step - loss: 3428846.5000 - val_loss: 3720187.0000\n",
            "Epoch 193/300\n",
            "11/11 [==============================] - 0s 6ms/step - loss: 3406705.0000 - val_loss: 3528141.7500\n",
            "Epoch 194/300\n",
            "11/11 [==============================] - 0s 6ms/step - loss: 3410786.2500 - val_loss: 3203773.7500\n",
            "Epoch 195/300\n",
            "11/11 [==============================] - 0s 7ms/step - loss: 3402541.7500 - val_loss: 3258282.2500\n",
            "Epoch 196/300\n",
            "11/11 [==============================] - 0s 7ms/step - loss: 3400595.5000 - val_loss: 3296694.0000\n",
            "Epoch 197/300\n",
            "11/11 [==============================] - 0s 7ms/step - loss: 3360014.7500 - val_loss: 3554318.5000\n",
            "Epoch 198/300\n",
            "11/11 [==============================] - 0s 6ms/step - loss: 3395545.5000 - val_loss: 3497241.0000\n",
            "Epoch 199/300\n",
            "11/11 [==============================] - 0s 8ms/step - loss: 3391153.0000 - val_loss: 3396768.0000\n",
            "Epoch 200/300\n",
            "11/11 [==============================] - 0s 9ms/step - loss: 3386739.0000 - val_loss: 3659556.5000\n",
            "Epoch 201/300\n",
            "11/11 [==============================] - 0s 12ms/step - loss: 3394570.2500 - val_loss: 3531146.7500\n",
            "Epoch 202/300\n",
            "11/11 [==============================] - 0s 9ms/step - loss: 3414703.7500 - val_loss: 3329220.0000\n",
            "Epoch 203/300\n",
            "11/11 [==============================] - 0s 8ms/step - loss: 3398996.0000 - val_loss: 3885788.5000\n",
            "Epoch 204/300\n",
            "11/11 [==============================] - 0s 11ms/step - loss: 3492984.5000 - val_loss: 4145689.0000\n",
            "Epoch 205/300\n",
            "11/11 [==============================] - 0s 8ms/step - loss: 3523743.7500 - val_loss: 4132688.2500\n",
            "Epoch 206/300\n",
            "11/11 [==============================] - 0s 9ms/step - loss: 3487054.2500 - val_loss: 3871233.7500\n",
            "Epoch 207/300\n",
            "11/11 [==============================] - 0s 9ms/step - loss: 3391172.7500 - val_loss: 3293839.7500\n",
            "Epoch 208/300\n",
            "11/11 [==============================] - 0s 9ms/step - loss: 3402568.2500 - val_loss: 3207245.5000\n",
            "Epoch 209/300\n",
            "11/11 [==============================] - 0s 9ms/step - loss: 3392644.2500 - val_loss: 3469306.2500\n",
            "Epoch 210/300\n",
            "11/11 [==============================] - 0s 8ms/step - loss: 3408384.5000 - val_loss: 3598861.7500\n",
            "Epoch 211/300\n",
            "11/11 [==============================] - 0s 8ms/step - loss: 3383911.7500 - val_loss: 3526763.5000\n",
            "Epoch 212/300\n",
            "11/11 [==============================] - 0s 11ms/step - loss: 3379411.5000 - val_loss: 3401404.7500\n",
            "Epoch 213/300\n",
            "11/11 [==============================] - 0s 10ms/step - loss: 3381832.2500 - val_loss: 3529672.5000\n",
            "Epoch 214/300\n",
            "11/11 [==============================] - 0s 11ms/step - loss: 3378396.5000 - val_loss: 3477919.0000\n",
            "Epoch 215/300\n",
            "11/11 [==============================] - 0s 11ms/step - loss: 3378249.5000 - val_loss: 3624453.2500\n",
            "Epoch 216/300\n",
            "11/11 [==============================] - 0s 8ms/step - loss: 3430594.7500 - val_loss: 4001632.2500\n",
            "Epoch 217/300\n",
            "11/11 [==============================] - 0s 9ms/step - loss: 3398532.0000 - val_loss: 3640646.5000\n",
            "Epoch 218/300\n",
            "11/11 [==============================] - 0s 9ms/step - loss: 3374490.2500 - val_loss: 3476520.2500\n",
            "Epoch 219/300\n",
            "11/11 [==============================] - 0s 6ms/step - loss: 3381653.5000 - val_loss: 3433037.7500\n",
            "Epoch 220/300\n",
            "11/11 [==============================] - 0s 6ms/step - loss: 3380583.2500 - val_loss: 3454182.5000\n",
            "Epoch 221/300\n",
            "11/11 [==============================] - 0s 6ms/step - loss: 3416408.2500 - val_loss: 3849521.0000\n",
            "Epoch 222/300\n",
            "11/11 [==============================] - 0s 8ms/step - loss: 3440522.7500 - val_loss: 3839061.2500\n",
            "Epoch 223/300\n",
            "11/11 [==============================] - 0s 8ms/step - loss: 3394184.7500 - val_loss: 3323989.2500\n",
            "Epoch 224/300\n",
            "11/11 [==============================] - 0s 6ms/step - loss: 3391076.2500 - val_loss: 3300771.5000\n",
            "Epoch 225/300\n",
            "11/11 [==============================] - 0s 6ms/step - loss: 3378523.7500 - val_loss: 3578100.0000\n",
            "Epoch 226/300\n",
            "11/11 [==============================] - 0s 8ms/step - loss: 3395896.5000 - val_loss: 3654771.2500\n",
            "Epoch 227/300\n",
            "11/11 [==============================] - 0s 6ms/step - loss: 3401669.2500 - val_loss: 3363001.0000\n",
            "Epoch 228/300\n",
            "11/11 [==============================] - 0s 6ms/step - loss: 3384805.2500 - val_loss: 3296817.5000\n",
            "Epoch 229/300\n",
            "11/11 [==============================] - 0s 8ms/step - loss: 3402444.2500 - val_loss: 3181501.7500\n",
            "Epoch 230/300\n",
            "11/11 [==============================] - 0s 6ms/step - loss: 3400791.0000 - val_loss: 3624945.7500\n",
            "Epoch 231/300\n",
            "11/11 [==============================] - 0s 6ms/step - loss: 3398736.2500 - val_loss: 3725821.2500\n",
            "Epoch 232/300\n",
            "11/11 [==============================] - 0s 8ms/step - loss: 3419811.0000 - val_loss: 3731932.0000\n",
            "Epoch 233/300\n",
            "11/11 [==============================] - 0s 8ms/step - loss: 3427324.0000 - val_loss: 3687556.2500\n",
            "Epoch 234/300\n",
            "11/11 [==============================] - 0s 8ms/step - loss: 3364884.2500 - val_loss: 3260568.2500\n",
            "Epoch 235/300\n",
            "11/11 [==============================] - 0s 8ms/step - loss: 3390426.7500 - val_loss: 3073718.0000\n",
            "Epoch 236/300\n",
            "11/11 [==============================] - 0s 8ms/step - loss: 3415223.2500 - val_loss: 3059925.2500\n",
            "Epoch 237/300\n",
            "11/11 [==============================] - 0s 8ms/step - loss: 3407252.7500 - val_loss: 3182411.0000\n",
            "Epoch 238/300\n",
            "11/11 [==============================] - 0s 7ms/step - loss: 3410357.7500 - val_loss: 3161357.5000\n",
            "Epoch 239/300\n",
            "11/11 [==============================] - 0s 7ms/step - loss: 3390999.7500 - val_loss: 3316811.7500\n",
            "Epoch 240/300\n",
            "11/11 [==============================] - 0s 8ms/step - loss: 3367753.5000 - val_loss: 3648320.7500\n",
            "Epoch 241/300\n",
            "11/11 [==============================] - 0s 6ms/step - loss: 3404176.7500 - val_loss: 3615993.0000\n",
            "Epoch 242/300\n",
            "11/11 [==============================] - 0s 6ms/step - loss: 3401272.5000 - val_loss: 3504142.5000\n",
            "Epoch 243/300\n",
            "11/11 [==============================] - 0s 6ms/step - loss: 3394770.0000 - val_loss: 3172826.7500\n",
            "Epoch 244/300\n",
            "11/11 [==============================] - 0s 7ms/step - loss: 3396217.7500 - val_loss: 3139670.7500\n",
            "Epoch 245/300\n",
            "11/11 [==============================] - 0s 6ms/step - loss: 3409618.0000 - val_loss: 3182506.7500\n",
            "Epoch 246/300\n",
            "11/11 [==============================] - 0s 10ms/step - loss: 3391987.0000 - val_loss: 3342719.0000\n",
            "Epoch 247/300\n",
            "11/11 [==============================] - 0s 7ms/step - loss: 3383005.0000 - val_loss: 3396137.0000\n",
            "Epoch 248/300\n",
            "11/11 [==============================] - 0s 6ms/step - loss: 3377715.7500 - val_loss: 3326900.0000\n",
            "Epoch 249/300\n",
            "11/11 [==============================] - 0s 6ms/step - loss: 3387544.7500 - val_loss: 3371858.5000\n",
            "Epoch 250/300\n",
            "11/11 [==============================] - 0s 6ms/step - loss: 3384079.5000 - val_loss: 3319549.7500\n",
            "Epoch 251/300\n",
            "11/11 [==============================] - 0s 6ms/step - loss: 3383252.7500 - val_loss: 3351240.5000\n",
            "Epoch 252/300\n",
            "11/11 [==============================] - 0s 8ms/step - loss: 3392543.5000 - val_loss: 3434279.0000\n",
            "Epoch 253/300\n",
            "11/11 [==============================] - 0s 6ms/step - loss: 3381557.2500 - val_loss: 3113110.7500\n",
            "Epoch 254/300\n",
            "11/11 [==============================] - 0s 8ms/step - loss: 3411908.2500 - val_loss: 3060303.7500\n",
            "Epoch 255/300\n",
            "11/11 [==============================] - 0s 6ms/step - loss: 3401383.7500 - val_loss: 3311509.0000\n",
            "Epoch 256/300\n",
            "11/11 [==============================] - 0s 7ms/step - loss: 3458077.0000 - val_loss: 3807111.5000\n",
            "Epoch 257/300\n",
            "11/11 [==============================] - 0s 7ms/step - loss: 3402483.7500 - val_loss: 3498425.0000\n",
            "Epoch 258/300\n",
            "11/11 [==============================] - 0s 6ms/step - loss: 3393165.5000 - val_loss: 3366793.0000\n",
            "Epoch 259/300\n",
            "11/11 [==============================] - 0s 7ms/step - loss: 3383975.0000 - val_loss: 3202111.2500\n",
            "Epoch 260/300\n",
            "11/11 [==============================] - 0s 7ms/step - loss: 3386105.7500 - val_loss: 3296589.5000\n",
            "Epoch 261/300\n",
            "11/11 [==============================] - 0s 8ms/step - loss: 3385228.0000 - val_loss: 3099156.0000\n",
            "Epoch 262/300\n",
            "11/11 [==============================] - 0s 6ms/step - loss: 3381877.7500 - val_loss: 3084268.0000\n",
            "Epoch 263/300\n",
            "11/11 [==============================] - 0s 6ms/step - loss: 3383439.5000 - val_loss: 3167950.5000\n",
            "Epoch 264/300\n",
            "11/11 [==============================] - 0s 7ms/step - loss: 3381650.2500 - val_loss: 3016308.5000\n",
            "Epoch 265/300\n",
            "11/11 [==============================] - 0s 7ms/step - loss: 3378691.2500 - val_loss: 2917730.5000\n",
            "Epoch 266/300\n",
            "11/11 [==============================] - 0s 6ms/step - loss: 3387828.0000 - val_loss: 2682893.2500\n",
            "Epoch 267/300\n",
            "11/11 [==============================] - 0s 7ms/step - loss: 3406874.7500 - val_loss: 2504556.5000\n",
            "Epoch 268/300\n",
            "11/11 [==============================] - 0s 8ms/step - loss: 3402486.5000 - val_loss: 2578259.2500\n",
            "Epoch 269/300\n",
            "11/11 [==============================] - 0s 8ms/step - loss: 3491635.2500 - val_loss: 6207008.0000\n",
            "Epoch 270/300\n",
            "11/11 [==============================] - 0s 7ms/step - loss: 4427647.0000 - val_loss: 15887718.0000\n",
            "Epoch 271/300\n",
            "11/11 [==============================] - 0s 8ms/step - loss: 4084901.7500 - val_loss: 14047807.0000\n",
            "Epoch 272/300\n",
            "11/11 [==============================] - 0s 7ms/step - loss: 4027044.5000 - val_loss: 13429313.0000\n",
            "Epoch 273/300\n",
            "11/11 [==============================] - 0s 8ms/step - loss: 4008206.0000 - val_loss: 14726521.0000\n",
            "Epoch 274/300\n",
            "11/11 [==============================] - 0s 8ms/step - loss: 4024549.2500 - val_loss: 13854167.0000\n",
            "Epoch 275/300\n",
            "11/11 [==============================] - 0s 8ms/step - loss: 3983757.5000 - val_loss: 11862886.0000\n",
            "Epoch 276/300\n",
            "11/11 [==============================] - 0s 8ms/step - loss: 4005871.2500 - val_loss: 11810045.0000\n",
            "Epoch 277/300\n",
            "11/11 [==============================] - 0s 7ms/step - loss: 4004708.2500 - val_loss: 11391109.0000\n",
            "Epoch 278/300\n",
            "11/11 [==============================] - 0s 8ms/step - loss: 4012681.2500 - val_loss: 11449475.0000\n",
            "Epoch 279/300\n",
            "11/11 [==============================] - 0s 9ms/step - loss: 4105414.2500 - val_loss: 10468202.0000\n",
            "Epoch 280/300\n",
            "11/11 [==============================] - 0s 7ms/step - loss: 4049239.0000 - val_loss: 11334189.0000\n",
            "Epoch 281/300\n",
            "11/11 [==============================] - 0s 6ms/step - loss: 4010526.2500 - val_loss: 12363580.0000\n",
            "Epoch 282/300\n",
            "11/11 [==============================] - 0s 6ms/step - loss: 3983384.7500 - val_loss: 12445759.0000\n",
            "Epoch 283/300\n",
            "11/11 [==============================] - 0s 8ms/step - loss: 3966129.0000 - val_loss: 11732528.0000\n",
            "Epoch 284/300\n",
            "11/11 [==============================] - 0s 7ms/step - loss: 3978126.7500 - val_loss: 12114577.0000\n",
            "Epoch 285/300\n",
            "11/11 [==============================] - 0s 6ms/step - loss: 3959529.7500 - val_loss: 14183764.0000\n",
            "Epoch 286/300\n",
            "11/11 [==============================] - 0s 8ms/step - loss: 4113003.0000 - val_loss: 16109786.0000\n",
            "Epoch 287/300\n",
            "11/11 [==============================] - 0s 6ms/step - loss: 4174357.5000 - val_loss: 15382450.0000\n",
            "Epoch 288/300\n",
            "11/11 [==============================] - 0s 7ms/step - loss: 4029727.5000 - val_loss: 12531507.0000\n",
            "Epoch 289/300\n",
            "11/11 [==============================] - 0s 7ms/step - loss: 3953485.0000 - val_loss: 11564649.0000\n",
            "Epoch 290/300\n",
            "11/11 [==============================] - 0s 7ms/step - loss: 3965576.0000 - val_loss: 11579799.0000\n",
            "Epoch 291/300\n",
            "11/11 [==============================] - 0s 6ms/step - loss: 3949729.5000 - val_loss: 12026206.0000\n",
            "Epoch 292/300\n",
            "11/11 [==============================] - 0s 6ms/step - loss: 3944084.0000 - val_loss: 12561138.0000\n",
            "Epoch 293/300\n",
            "11/11 [==============================] - 0s 7ms/step - loss: 3935710.5000 - val_loss: 12166622.0000\n",
            "Epoch 294/300\n",
            "11/11 [==============================] - 0s 8ms/step - loss: 3938088.5000 - val_loss: 11550239.0000\n",
            "Epoch 295/300\n",
            "11/11 [==============================] - 0s 7ms/step - loss: 3947114.2500 - val_loss: 11213652.0000\n",
            "Epoch 296/300\n",
            "11/11 [==============================] - 0s 6ms/step - loss: 3948143.0000 - val_loss: 11397136.0000\n",
            "Epoch 297/300\n",
            "11/11 [==============================] - 0s 7ms/step - loss: 3953965.2500 - val_loss: 11491151.0000\n",
            "Epoch 298/300\n",
            "11/11 [==============================] - 0s 8ms/step - loss: 3929923.2500 - val_loss: 9886013.0000\n",
            "Epoch 299/300\n",
            "11/11 [==============================] - 0s 8ms/step - loss: 3932199.0000 - val_loss: 7687309.0000\n",
            "Epoch 300/300\n",
            "11/11 [==============================] - 0s 6ms/step - loss: 3844722.5000 - val_loss: 4258828.0000\n"
          ]
        },
        {
          "output_type": "execute_result",
          "data": {
            "text/plain": [
              "<keras.callbacks.History at 0x7fa775347b80>"
            ]
          },
          "metadata": {},
          "execution_count": 177
        }
      ],
      "source": [
        "# Создание LSTM модели для ВВП\n",
        "model_v = Sequential()\n",
        "model_v.add(LSTM(50, input_shape=(time_steps, features)))\n",
        "\n",
        "model_v.add(Dense(200))\n",
        "model_v.add(Dense(100))\n",
        "\n",
        "model_v.add(Dense(1))\n",
        "\n",
        "# Компиляция модели\n",
        "model_v.compile(optimizer='adam', loss='mse')\n",
        "\n",
        "# Обучение модели\n",
        "model_v.fit(x_train2, y_train_VVP, epochs=300, batch_size=16, validation_data=(x_test2, y_test_vvp))"
      ]
    },
    {
      "cell_type": "code",
      "source": [
        "model_v.fit(x_train2, y_train_VVP, epochs=50, batch_size=4, validation_data=(x_test2, y_test_vvp))"
      ],
      "metadata": {
        "id": "ZhQxV4un8tmf"
      },
      "execution_count": null,
      "outputs": []
    },
    {
      "cell_type": "code",
      "source": [],
      "metadata": {
        "id": "2ypkqsbPNZXj"
      },
      "execution_count": null,
      "outputs": []
    },
    {
      "cell_type": "code",
      "source": [
        "pred_dfv = model_v.predict(x_test2)\n",
        "plt.plot(pred_dfv)\n",
        "plt.plot(y_test_vvp)"
      ],
      "metadata": {
        "colab": {
          "base_uri": "https://localhost:8080/",
          "height": 465
        },
        "id": "PJWXPCg_7qXs",
        "outputId": "649ee751-901c-4b8e-cfa2-622f0f70dee8"
      },
      "execution_count": 179,
      "outputs": [
        {
          "output_type": "stream",
          "name": "stdout",
          "text": [
            "2/2 [==============================] - 0s 5ms/step\n"
          ]
        },
        {
          "output_type": "execute_result",
          "data": {
            "text/plain": [
              "[<matplotlib.lines.Line2D at 0x7fa777555b10>]"
            ]
          },
          "metadata": {},
          "execution_count": 179
        },
        {
          "output_type": "display_data",
          "data": {
            "text/plain": [
              "<Figure size 640x480 with 1 Axes>"
            ],
            "image/png": "[encoded data removed]"
          },
          "metadata": {}
        }
      ]
    },
    {
      "cell_type": "code",
      "source": [
        "# Для инфляции\n",
        "DF_hi_korr = values[['X11','X12','X26','Z11','Z9','Z10','X10','X25','Z62']]\n",
        "print(DF_hi_korr.shape)\n",
        "\n",
        "x_train = pd.concat([DF_hi_korr.iloc[:50] ,DF_hi_korr.iloc[100:]])\n",
        "x_train = x_train.reset_index(drop=True)\n",
        "\n",
        "x_test = DF_hi_korr.iloc[50:100]\n",
        "x_test = x_test.reset_index(drop=True)\n",
        "\n",
        "print(x_train.shape,x_test.shape)\n"
      ],
      "metadata": {
        "id": "UHuXhGjEDvFE",
        "outputId": "4e3eac7b-1265-40d5-e31c-1b742c72189e",
        "colab": {
          "base_uri": "https://localhost:8080/"
        }
      },
      "execution_count": 183,
      "outputs": [
        {
          "output_type": "stream",
          "name": "stdout",
          "text": [
            "(216, 9)\n",
            "(166, 9) (50, 9)\n"
          ]
        }
      ]
    },
    {
      "cell_type": "code",
      "source": [
        "DF_hi_korr.plot()"
      ],
      "metadata": {
        "id": "O5r3D1iiK3bz",
        "outputId": "8e66b675-3c0d-4f3b-8c37-c7232ab3ff62",
        "colab": {
          "base_uri": "https://localhost:8080/",
          "height": 448
        }
      },
      "execution_count": 184,
      "outputs": [
        {
          "output_type": "execute_result",
          "data": {
            "text/plain": [
              "<Axes: >"
            ]
          },
          "metadata": {},
          "execution_count": 184
        },
        {
          "output_type": "display_data",
          "data": {
            "text/plain": [
              "<Figure size 640x480 with 1 Axes>"
            ],
            "image/png": "[encoded data removed]"
          },
          "metadata": {}
        }
      ]
    },
    {
      "cell_type": "code",
      "source": [
        "# y_train_VVP = pd.concat([values[:50].filter(like='Y1'),values[105:].filter(like='Y1')])\n",
        "# y_train_VVP = y_train_VVP.reset_index(drop=True)\n",
        "y_train_INF = pd.concat([values[:50].filter(like='Y2'),values[105:].filter(like='Y2')])\n",
        "y_train_INF = y_train_INF.reset_index(drop=True)\n",
        "print(y_train_VVP.shape,y_train_VVP.shape)"
      ],
      "metadata": {
        "id": "DqQjOv6yFK-r",
        "outputId": "c81596cc-6bbb-422e-f622-e4e3fb46b124",
        "colab": {
          "base_uri": "https://localhost:8080/"
        }
      },
      "execution_count": 185,
      "outputs": [
        {
          "output_type": "stream",
          "name": "stdout",
          "text": [
            "(161, 1) (161, 1)\n"
          ]
        }
      ]
    },
    {
      "cell_type": "code",
      "source": [
        "# y_test_vvp = values[50:95].filter(like='Y1')\n",
        "# y_test_vvp = y_test_vvp.reset_index(drop=True)\n",
        "y_test_inf = values[50:95].filter(like='Y2')\n",
        "y_test_inf = y_test_inf.reset_index(drop=True)\n",
        "print(y_test_vvp.shape,y_test_inf.shape)"
      ],
      "metadata": {
        "id": "kkM86EaWFOhr",
        "outputId": "53a0b791-6879-42a6-f40b-2fd01c9caa6b",
        "colab": {
          "base_uri": "https://localhost:8080/"
        }
      },
      "execution_count": 186,
      "outputs": [
        {
          "output_type": "stream",
          "name": "stdout",
          "text": [
            "(45, 1) (45, 1)\n"
          ]
        }
      ]
    },
    {
      "cell_type": "code",
      "source": [
        "time_steps=6\n",
        "features = 9"
      ],
      "metadata": {
        "id": "S1avKvWVFXb0"
      },
      "execution_count": 187,
      "outputs": []
    },
    {
      "cell_type": "code",
      "source": [
        "# Инициализация массива x_train\n",
        "x_train2 = np.zeros((x_train.shape[0] - time_steps + 1, time_steps, features))\n",
        "\n",
        "# Заполнение массива x_train окнами размером time_steps\n",
        "for i in range(x_train.shape[0] - time_steps + 1):\n",
        "    x_train2[i] = x_train.iloc[i:i+time_steps].values\n",
        "\n",
        "print(x_train2.shape)"
      ],
      "metadata": {
        "id": "O39o9txNFbET",
        "outputId": "8c843230-314d-4698-93c3-47ff53ec84b5",
        "colab": {
          "base_uri": "https://localhost:8080/"
        }
      },
      "execution_count": 188,
      "outputs": [
        {
          "output_type": "stream",
          "name": "stdout",
          "text": [
            "(161, 6, 9)\n"
          ]
        }
      ]
    },
    {
      "cell_type": "code",
      "source": [
        "# Инициализация массива x_test\n",
        "x_test2 = np.zeros((x_test.shape[0] - time_steps + 1, time_steps, features))\n",
        "\n",
        "# Заполнение массива x_test окнами размером time_steps\n",
        "for i in range(x_test.shape[0] - time_steps + 1):\n",
        "    x_test2[i] = x_test.iloc[i:i+time_steps].values\n",
        "\n",
        "print(x_test2.shape)"
      ],
      "metadata": {
        "id": "IjwNhF2wFfXV",
        "outputId": "fc335583-9ddb-405c-ace0-26211117c5e5",
        "colab": {
          "base_uri": "https://localhost:8080/"
        }
      },
      "execution_count": 189,
      "outputs": [
        {
          "output_type": "stream",
          "name": "stdout",
          "text": [
            "(45, 6, 9)\n"
          ]
        }
      ]
    },
    {
      "cell_type": "code",
      "source": [
        "# Создание LSTM модели для ВВП\n",
        "model_i = Sequential()\n",
        "model_i.add(LSTM(164, input_shape=(time_steps, features)))\n",
        "model_i.add(Dense(100))\n",
        "model_i.add(Dense(30))\n",
        "model_i.add(Dense(1))\n",
        "\n",
        "# Компиляция модели\n",
        "model_i.compile(optimizer='adam', loss='mse')\n",
        "\n",
        "# Обучение модели\n",
        "model_i.fit(x_train2, y_train_INF, epochs=50, batch_size=32, validation_data=(x_test2, y_test_inf))"
      ],
      "metadata": {
        "id": "GOMqZm1zGgP_",
        "outputId": "2c5fc79b-a226-49f9-d8a6-797085017b36",
        "colab": {
          "base_uri": "https://localhost:8080/"
        }
      },
      "execution_count": 201,
      "outputs": [
        {
          "output_type": "stream",
          "name": "stdout",
          "text": [
            "Epoch 1/50\n",
            "6/6 [==============================] - 2s 90ms/step - loss: 0.9366 - val_loss: 1.4361\n",
            "Epoch 2/50\n",
            "6/6 [==============================] - 0s 13ms/step - loss: 0.7786 - val_loss: 0.6550\n",
            "Epoch 3/50\n",
            "6/6 [==============================] - 0s 16ms/step - loss: 0.9161 - val_loss: 0.8880\n",
            "Epoch 4/50\n",
            "6/6 [==============================] - 0s 17ms/step - loss: 0.7682 - val_loss: 0.3937\n",
            "Epoch 5/50\n",
            "6/6 [==============================] - 0s 13ms/step - loss: 0.6482 - val_loss: 0.8430\n",
            "Epoch 6/50\n",
            "6/6 [==============================] - 0s 13ms/step - loss: 0.6383 - val_loss: 0.3135\n",
            "Epoch 7/50\n",
            "6/6 [==============================] - 0s 17ms/step - loss: 0.6147 - val_loss: 0.7796\n",
            "Epoch 8/50\n",
            "6/6 [==============================] - 0s 14ms/step - loss: 0.8002 - val_loss: 0.3122\n",
            "Epoch 9/50\n",
            "6/6 [==============================] - 0s 16ms/step - loss: 0.6766 - val_loss: 0.2409\n",
            "Epoch 10/50\n",
            "6/6 [==============================] - 0s 17ms/step - loss: 0.6693 - val_loss: 0.3975\n",
            "Epoch 11/50\n",
            "6/6 [==============================] - 0s 14ms/step - loss: 0.6152 - val_loss: 0.2154\n",
            "Epoch 12/50\n",
            "6/6 [==============================] - 0s 17ms/step - loss: 0.6689 - val_loss: 0.3890\n",
            "Epoch 13/50\n",
            "6/6 [==============================] - 0s 13ms/step - loss: 0.5519 - val_loss: 0.2700\n",
            "Epoch 14/50\n",
            "6/6 [==============================] - 0s 13ms/step - loss: 0.5601 - val_loss: 0.4349\n",
            "Epoch 15/50\n",
            "6/6 [==============================] - 0s 13ms/step - loss: 0.5493 - val_loss: 0.2673\n",
            "Epoch 16/50\n",
            "6/6 [==============================] - 0s 14ms/step - loss: 0.5510 - val_loss: 0.3664\n",
            "Epoch 17/50\n",
            "6/6 [==============================] - 0s 14ms/step - loss: 0.5342 - val_loss: 0.3226\n",
            "Epoch 18/50\n",
            "6/6 [==============================] - 0s 19ms/step - loss: 0.5357 - val_loss: 0.3213\n",
            "Epoch 19/50\n",
            "6/6 [==============================] - 0s 14ms/step - loss: 0.5413 - val_loss: 0.2894\n",
            "Epoch 20/50\n",
            "6/6 [==============================] - 0s 17ms/step - loss: 0.5257 - val_loss: 0.2921\n",
            "Epoch 21/50\n",
            "6/6 [==============================] - 0s 16ms/step - loss: 0.5297 - val_loss: 1.0731\n",
            "Epoch 22/50\n",
            "6/6 [==============================] - 0s 13ms/step - loss: 1.2815 - val_loss: 0.4009\n",
            "Epoch 23/50\n",
            "6/6 [==============================] - 0s 13ms/step - loss: 1.0559 - val_loss: 0.4030\n",
            "Epoch 24/50\n",
            "6/6 [==============================] - 0s 17ms/step - loss: 0.6680 - val_loss: 0.7842\n",
            "Epoch 25/50\n",
            "6/6 [==============================] - 0s 19ms/step - loss: 0.6436 - val_loss: 0.3588\n",
            "Epoch 26/50\n",
            "6/6 [==============================] - 0s 14ms/step - loss: 0.5752 - val_loss: 0.8401\n",
            "Epoch 27/50\n",
            "6/6 [==============================] - 0s 14ms/step - loss: 0.7279 - val_loss: 0.3886\n",
            "Epoch 28/50\n",
            "6/6 [==============================] - 0s 18ms/step - loss: 0.6604 - val_loss: 0.3524\n",
            "Epoch 29/50\n",
            "6/6 [==============================] - 0s 15ms/step - loss: 0.5369 - val_loss: 0.6627\n",
            "Epoch 30/50\n",
            "6/6 [==============================] - 0s 14ms/step - loss: 0.5649 - val_loss: 0.4036\n",
            "Epoch 31/50\n",
            "6/6 [==============================] - 0s 17ms/step - loss: 0.5628 - val_loss: 0.4440\n",
            "Epoch 32/50\n",
            "6/6 [==============================] - 0s 14ms/step - loss: 0.5623 - val_loss: 0.4405\n",
            "Epoch 33/50\n",
            "6/6 [==============================] - 0s 17ms/step - loss: 0.5342 - val_loss: 0.4228\n",
            "Epoch 34/50\n",
            "6/6 [==============================] - 0s 14ms/step - loss: 0.6099 - val_loss: 0.3931\n",
            "Epoch 35/50\n",
            "6/6 [==============================] - 0s 16ms/step - loss: 0.5606 - val_loss: 0.6011\n",
            "Epoch 36/50\n",
            "6/6 [==============================] - 0s 15ms/step - loss: 0.6964 - val_loss: 0.4185\n",
            "Epoch 37/50\n",
            "6/6 [==============================] - 0s 14ms/step - loss: 0.7526 - val_loss: 0.3704\n",
            "Epoch 38/50\n",
            "6/6 [==============================] - 0s 14ms/step - loss: 0.6061 - val_loss: 0.7092\n",
            "Epoch 39/50\n",
            "6/6 [==============================] - 0s 17ms/step - loss: 0.5917 - val_loss: 0.4051\n",
            "Epoch 40/50\n",
            "6/6 [==============================] - 0s 14ms/step - loss: 0.5976 - val_loss: 0.5324\n",
            "Epoch 41/50\n",
            "6/6 [==============================] - 0s 16ms/step - loss: 0.5633 - val_loss: 0.4620\n",
            "Epoch 42/50\n",
            "6/6 [==============================] - 0s 15ms/step - loss: 0.5625 - val_loss: 0.4579\n",
            "Epoch 43/50\n",
            "6/6 [==============================] - 0s 15ms/step - loss: 0.5506 - val_loss: 0.4792\n",
            "Epoch 44/50\n",
            "6/6 [==============================] - 0s 14ms/step - loss: 0.5494 - val_loss: 0.5346\n",
            "Epoch 45/50\n",
            "6/6 [==============================] - 0s 14ms/step - loss: 0.5333 - val_loss: 0.4194\n",
            "Epoch 46/50\n",
            "6/6 [==============================] - 0s 14ms/step - loss: 0.5252 - val_loss: 0.4095\n",
            "Epoch 47/50\n",
            "6/6 [==============================] - 0s 17ms/step - loss: 0.5111 - val_loss: 0.4556\n",
            "Epoch 48/50\n",
            "6/6 [==============================] - 0s 20ms/step - loss: 0.5165 - val_loss: 0.5010\n",
            "Epoch 49/50\n",
            "6/6 [==============================] - 0s 14ms/step - loss: 0.5171 - val_loss: 0.5314\n",
            "Epoch 50/50\n",
            "6/6 [==============================] - 0s 16ms/step - loss: 0.5146 - val_loss: 0.4579\n"
          ]
        },
        {
          "output_type": "execute_result",
          "data": {
            "text/plain": [
              "<keras.callbacks.History at 0x7fa76ed7b190>"
            ]
          },
          "metadata": {},
          "execution_count": 201
        }
      ]
    },
    {
      "cell_type": "code",
      "source": [
        "# Обучение модели\n",
        "model_i.fit(x_train2, y_train_INF, epochs=10, batch_size=8, validation_data=(x_test2, y_test_inf))"
      ],
      "metadata": {
        "id": "7B5KssEdKhzu",
        "outputId": "2d592ec7-8608-4852-af31-04a4dd993a61",
        "colab": {
          "base_uri": "https://localhost:8080/"
        }
      },
      "execution_count": 202,
      "outputs": [
        {
          "output_type": "stream",
          "name": "stdout",
          "text": [
            "Epoch 1/10\n",
            "21/21 [==============================] - 0s 10ms/step - loss: 0.5623 - val_loss: 0.3915\n",
            "Epoch 2/10\n",
            "21/21 [==============================] - 0s 8ms/step - loss: 0.6657 - val_loss: 0.4150\n",
            "Epoch 3/10\n",
            "21/21 [==============================] - 0s 8ms/step - loss: 0.6139 - val_loss: 0.2630\n",
            "Epoch 4/10\n",
            "21/21 [==============================] - 0s 8ms/step - loss: 0.6036 - val_loss: 0.4191\n",
            "Epoch 5/10\n",
            "21/21 [==============================] - 0s 9ms/step - loss: 0.6523 - val_loss: 0.4169\n",
            "Epoch 6/10\n",
            "21/21 [==============================] - 0s 8ms/step - loss: 0.8275 - val_loss: 0.7140\n",
            "Epoch 7/10\n",
            "21/21 [==============================] - 0s 9ms/step - loss: 0.6835 - val_loss: 0.3052\n",
            "Epoch 8/10\n",
            "21/21 [==============================] - 0s 9ms/step - loss: 0.6423 - val_loss: 0.4880\n",
            "Epoch 9/10\n",
            "21/21 [==============================] - 0s 9ms/step - loss: 0.8586 - val_loss: 0.3804\n",
            "Epoch 10/10\n",
            "21/21 [==============================] - 0s 9ms/step - loss: 0.6568 - val_loss: 0.3547\n"
          ]
        },
        {
          "output_type": "execute_result",
          "data": {
            "text/plain": [
              "<keras.callbacks.History at 0x7fa768ddca30>"
            ]
          },
          "metadata": {},
          "execution_count": 202
        }
      ]
    },
    {
      "cell_type": "code",
      "source": [
        "pred_df_i = model_i.predict(x_test2)\n",
        "plt.plot(pred_df_i)\n",
        "plt.plot(y_test_inf)"
      ],
      "metadata": {
        "id": "TLn5dBdOG-LV",
        "outputId": "bfb1589c-750c-4eea-c760-cbca4600e7e3",
        "colab": {
          "base_uri": "https://localhost:8080/",
          "height": 470
        }
      },
      "execution_count": 203,
      "outputs": [
        {
          "output_type": "stream",
          "name": "stdout",
          "text": [
            "2/2 [==============================] - 0s 6ms/step\n"
          ]
        },
        {
          "output_type": "execute_result",
          "data": {
            "text/plain": [
              "[<matplotlib.lines.Line2D at 0x7fa768eb3580>]"
            ]
          },
          "metadata": {},
          "execution_count": 203
        },
        {
          "output_type": "display_data",
          "data": {
            "text/plain": [
              "<Figure size 640x480 with 1 Axes>"
            ],
            "image/png": "[encoded data removed]"
          },
          "metadata": {}
        }
      ]
    },
    {
      "cell_type": "code",
      "source": [],
      "metadata": {
        "id": "azt-vNkSHFjN"
      },
      "execution_count": null,
      "outputs": []
    }
  ],
  "metadata": {
    "kernelspec": {
      "display_name": "venv",
      "language": "python",
      "name": "python3"
    },
    "language_info": {
      "codemirror_mode": {
        "name": "ipython",
        "version": 3
      },
      "file_extension": ".py",
      "mimetype": "text/x-python",
      "name": "python",
      "nbconvert_exporter": "python",
      "pygments_lexer": "ipython3",
      "version": "3.7.9"
    },
    "orig_nbformat": 4,
    "vscode": {
      "interpreter": {
        "hash": "99dddc851a833b91fd127d88bc59065d097b52864c3e88c4de53a53e76043413"
      }
    },
    "colab": {
      "provenance": []
    }
  },
  "nbformat": 4,
  "nbformat_minor": 0
}